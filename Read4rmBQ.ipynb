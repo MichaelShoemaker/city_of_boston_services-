{
 "cells": [
  {
   "cell_type": "code",
   "execution_count": 5,
   "id": "cf25dfac",
   "metadata": {},
   "outputs": [],
   "source": [
    "from __future__ import absolute_import\n",
    "import json\n",
    "import pprint\n",
    "import subprocess\n",
    "import pyspark\n",
    "from pyspark.sql import SparkSession"
   ]
  },
  {
   "cell_type": "code",
   "execution_count": 6,
   "id": "cf8a4da5",
   "metadata": {},
   "outputs": [],
   "source": [
    "spark = SparkSession.builder \\\n",
    "        .master(\"local\") \\\n",
    "        .appName(\"311 Service Request\") \\\n",
    "        .getOrCreate()\n",
    "\n",
    "spark.sparkContext.setLogLevel(\"ERROR\")"
   ]
  },
  {
   "cell_type": "code",
   "execution_count": 9,
   "id": "d336a7f8",
   "metadata": {},
   "outputs": [
    {
     "name": "stdout",
     "output_type": "stream",
     "text": [
      "StructType(List(StructField(LocationID,LongType,true),StructField(Borough,StringType,true),StructField(Zone,StringType,true),StructField(service_zone,StringType,true)))\n"
     ]
    },
    {
     "name": "stderr",
     "output_type": "stream",
     "text": [
      "\r",
      "[Stage 0:>                                                          (0 + 1) / 1]\r"
     ]
    },
    {
     "name": "stdout",
     "output_type": "stream",
     "text": [
      "+----------+-------+--------------------+------------+\n",
      "|LocationID|Borough|                Zone|service_zone|\n",
      "+----------+-------+--------------------+------------+\n",
      "|         1|    EWR|      Newark Airport|         EWR|\n",
      "|       265|Unknown|                  NA|         N/A|\n",
      "|       264|Unknown|                  NV|         N/A|\n",
      "|       138| Queens|   LaGuardia Airport|    Airports|\n",
      "|       132| Queens|         JFK Airport|    Airports|\n",
      "|       213|  Bronx|Soundview/Castle ...|  Green Zone|\n",
      "|       220|  Bronx|Spuyten Duyvil/Ki...|  Green Zone|\n",
      "|       168|  Bronx|Mott Haven/Port M...|  Green Zone|\n",
      "|       208|  Bronx|Schuylerville/Edg...|  Green Zone|\n",
      "|        20|  Bronx|             Belmont|  Green Zone|\n",
      "|       200|  Bronx|Riverdale/North R...|  Green Zone|\n",
      "|        51|  Bronx|          Co-Op City|  Green Zone|\n",
      "|       159|  Bronx|       Melrose South|  Green Zone|\n",
      "|        46|  Bronx|         City Island|  Green Zone|\n",
      "|       147|  Bronx|            Longwood|  Green Zone|\n",
      "|        59|  Bronx|        Crotona Park|  Green Zone|\n",
      "|       169|  Bronx|          Mount Hope|  Green Zone|\n",
      "|       248|  Bronx|West Farms/Bronx ...|  Green Zone|\n",
      "|       126|  Bronx|         Hunts Point|  Green Zone|\n",
      "|        18|  Bronx|        Bedford Park|  Green Zone|\n",
      "+----------+-------+--------------------+------------+\n",
      "only showing top 20 rows\n",
      "\n"
     ]
    },
    {
     "name": "stderr",
     "output_type": "stream",
     "text": [
      "\r",
      "                                                                                \r"
     ]
    }
   ],
   "source": [
    "df = spark.read.format('bigquery') \\\n",
    "    .option('project','dataengineering-bizzy') \\\n",
    "    .option('table','production.dim_zone') \\\n",
    "    .load()\n",
    "\n",
    "print(df.schema)\n",
    "\n",
    "df.show()\n",
    "#dataengineering-bizzy.taxi_rides_ny.external_table"
   ]
  },
  {
   "cell_type": "code",
   "execution_count": null,
   "id": "fae58bcc",
   "metadata": {},
   "outputs": [],
   "source": []
  }
 ],
 "metadata": {
  "kernelspec": {
   "display_name": "Python 3 (ipykernel)",
   "language": "python",
   "name": "python3"
  },
  "language_info": {
   "codemirror_mode": {
    "name": "ipython",
    "version": 3
   },
   "file_extension": ".py",
   "mimetype": "text/x-python",
   "name": "python",
   "nbconvert_exporter": "python",
   "pygments_lexer": "ipython3",
   "version": "3.9.7"
  }
 },
 "nbformat": 4,
 "nbformat_minor": 5
}
