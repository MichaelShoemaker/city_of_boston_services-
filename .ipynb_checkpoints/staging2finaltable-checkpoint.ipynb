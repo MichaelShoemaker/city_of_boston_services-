{
 "cells": [
  {
   "cell_type": "code",
   "execution_count": 30,
   "id": "7ec7e8c2",
   "metadata": {},
   "outputs": [],
   "source": [
    "import pyspark\n",
    "from pyspark.sql import SparkSession\n",
    "import warnings\n",
    "warnings.filterwarnings('ignore')\n",
    "import warnings; warnings.simplefilter('ignore')\n",
    "import pandas as pd\n",
    "from pyspark.sql.functions import *\n",
    "from google.cloud import storage\n"
   ]
  },
  {
   "cell_type": "code",
   "execution_count": 31,
   "id": "4a8d71a4",
   "metadata": {},
   "outputs": [],
   "source": [
    "spark = SparkSession.builder \\\n",
    "        .master(\"local\") \\\n",
    "        .appName(\"311 Service Request\") \\\n",
    "        .getOrCreate()\n",
    "\n",
    "spark.sparkContext.setLogLevel(\"ERROR\")"
   ]
  },
  {
   "cell_type": "code",
   "execution_count": null,
   "id": "70b1e1af",
   "metadata": {},
   "outputs": [],
   "source": []
  },
  {
   "cell_type": "code",
   "execution_count": null,
   "id": "40f4f872",
   "metadata": {},
   "outputs": [],
   "source": []
  },
  {
   "cell_type": "code",
   "execution_count": 32,
   "id": "d2073428",
   "metadata": {},
   "outputs": [],
   "source": [
    "df = spark.read.option(\"header\",True).parquet(\"gs://datalake-311-bronze/311request_2022_03_17-01_29_34_PM.parquet\")\n"
   ]
  },
  {
   "cell_type": "code",
   "execution_count": 33,
   "id": "3976cb30",
   "metadata": {
    "scrolled": true
   },
   "outputs": [
    {
     "data": {
      "text/plain": [
       "<bound method DataFrame.printSchema of DataFrame[sr_number: string, sr_type: string, sr_short_code: string, owner_department: string, status: string, created_date: string, last_modified_date: string, closed_date: string, street_address: string, city: string, state: string, zip_code: bigint, street_number: bigint, street_direction: string, street_name: string, street_type: string, duplicate: boolean, legacy_record: boolean, legacy_sr_number: int, parent_sr_number: string, community_area: bigint, ward: bigint, electrical_district: int, electricity_grid: string, police_sector: bigint, police_district: bigint, police_beat: bigint, precinct: bigint, sanitation_division_days: int, created_hour: bigint, created_day_of_week: bigint, created_month: bigint, x_coordinate: double, y_coordinate: double, latitude: double, longitude: double, location: string]>"
      ]
     },
     "execution_count": 33,
     "metadata": {},
     "output_type": "execute_result"
    }
   ],
   "source": [
    "df.printSchema"
   ]
  },
  {
   "cell_type": "code",
   "execution_count": 6,
   "id": "c35ac95a",
   "metadata": {},
   "outputs": [
    {
     "name": "stderr",
     "output_type": "stream",
     "text": [
      "\r",
      "[Stage 1:>                                                          (0 + 1) / 1]\r"
     ]
    },
    {
     "name": "stdout",
     "output_type": "stream",
     "text": [
      "+-------------+--------------------+-------------+--------------------+---------+--------------------+--------------------+--------------------+-------------------+-------+--------+--------+-------------+-----------+---------+\n",
      "|    sr_number|             sr_type|sr_short_code|    owner_department|   status|        created_date|  last_modified_date|         closed_date|     street_address|   city|   state|zip_code|street_number|street_type|duplicate|\n",
      "+-------------+--------------------+-------------+--------------------+---------+--------------------+--------------------+--------------------+-------------------+-------+--------+--------+-------------+-----------+---------+\n",
      "|SR22-00447199|311 INFORMATION O...|       311IOC|   311 City Services|Completed|2022-03-19T07:44:...|2022-03-19T08:30:...|2022-03-19T07:44:...|2111 W Lexington ST|Chicago|Illinois|   60612|         2111|         ST|    false|\n",
      "|SR22-00448009|Stray Animal Comp...|          EAE|Animal Care and C...|     Open|2022-03-19T10:57:...|2022-03-19T10:57:...|                    |  2658 N MOBILE AVE|       |        |   60639|         2658|        AVE|     true|\n",
      "|SR22-00447847|311 INFORMATION O...|       311IOC|   311 City Services|Completed|2022-03-19T10:15:...|2022-03-19T10:32:...|2022-03-19T10:15:...|2111 W Lexington ST|Chicago|Illinois|   60612|         2111|         ST|    false|\n",
      "|SR22-00448313|311 INFORMATION O...|       311IOC|   311 City Services|Completed|2022-03-19T11:58:...|2022-03-19T11:58:...|2022-03-19T11:58:...|2111 W Lexington ST|Chicago|Illinois|   60612|         2111|         ST|    false|\n",
      "|SR22-00448092|Water On Street C...|          AAE|DWM - Department ...|     Open|2022-03-19T11:14:...|2022-03-19T11:19:...|                    | 2523 N LINCOLN AVE|       |        |   60614|         2523|        AVE|    false|\n",
      "+-------------+--------------------+-------------+--------------------+---------+--------------------+--------------------+--------------------+-------------------+-------+--------+--------+-------------+-----------+---------+\n",
      "only showing top 5 rows\n",
      "\n"
     ]
    },
    {
     "name": "stderr",
     "output_type": "stream",
     "text": [
      "\r",
      "                                                                                \r"
     ]
    }
   ],
   "source": [
    "df_sel =df.select(\"sr_number\", \"sr_type\", \"sr_short_code\", \"owner_department\",\"status\", \"created_date\", \\\n",
    "                  \"last_modified_date\", \"closed_date\", \"street_address\", \"city\", \"state\", \\\n",
    "                  \"zip_code\", \"street_number\", \"street_type\", \"duplicate\")\n",
    "df_sel.show(5)"
   ]
  },
  {
   "cell_type": "code",
   "execution_count": 14,
   "id": "6132d930",
   "metadata": {},
   "outputs": [],
   "source": [
    "dftemp =df_sel.withColumn(\"hash\", hash(col(\"sr_number\")))\n",
    "\n",
    "#sdf.withColumn(\"id\", F.hash(\"_path\"))"
   ]
  },
  {
   "cell_type": "code",
   "execution_count": 15,
   "id": "f10c371c",
   "metadata": {},
   "outputs": [
    {
     "name": "stderr",
     "output_type": "stream",
     "text": [
      "\r",
      "[Stage 10:>                                                         (0 + 1) / 1]\r"
     ]
    },
    {
     "name": "stdout",
     "output_type": "stream",
     "text": [
      "+-------------+-----------+\n",
      "|    sr_number|       hash|\n",
      "+-------------+-----------+\n",
      "|SR22-00448364| -767969532|\n",
      "|SR22-00447909|-2084135878|\n",
      "|SR22-00447412| 1547371148|\n",
      "|SR22-00447840| -312388714|\n",
      "|SR22-00447479|  736747825|\n",
      "|SR22-00447419| -417401163|\n",
      "|SR22-00448033| 1623104691|\n",
      "|SR22-00447262| -226912089|\n",
      "|SR22-00447423| 1670529439|\n",
      "|SR22-00447448|-1796251691|\n",
      "+-------------+-----------+\n",
      "only showing top 10 rows\n",
      "\n"
     ]
    },
    {
     "name": "stderr",
     "output_type": "stream",
     "text": [
      "\r",
      "                                                                                \r"
     ]
    }
   ],
   "source": [
    "dftemp.select(\"sr_number\", \"hash\").show(10)"
   ]
  },
  {
   "cell_type": "code",
   "execution_count": 16,
   "id": "637ca7ac",
   "metadata": {},
   "outputs": [
    {
     "name": "stdout",
     "output_type": "stream",
     "text": [
      "+--------------------------------+------------------------------------+--------------------------------------------+--------------------------------+---------------------------+\n",
      "|sha2(pipohecho@hotmail.com, 256)|sha2(rozas_huertas@hotmail.com, 256)|sha2(miguelilloooooooooouu@hotmail.com, 256)|sha2(rjdzpmsyi@hotmail.com, 256)|sha2(pepe@hotmail.com, 256)|\n",
      "+--------------------------------+------------------------------------+--------------------------------------------+--------------------------------+---------------------------+\n",
      "|            02068bc029cd26888...|                391af34e53d82ce8f...|                        fde18d7d27497717a...|            b07300bee7e683261...|       921efc4884d3c8a32...|\n",
      "+--------------------------------+------------------------------------+--------------------------------------------+--------------------------------+---------------------------+\n",
      "\n"
     ]
    }
   ],
   "source": [
    "spark.sql(\"\"\"select sha2('pipohecho@hotmail.com',256),\n",
    "       sha2('rozas_huertas@hotmail.com',256),\n",
    "       sha2('miguelilloooooooooouu@hotmail.com',256),\n",
    "       sha2('rjdzpmsyi@hotmail.com',256),\n",
    "       sha2('pepe@hotmail.com',256)\"\"\").show()"
   ]
  },
  {
   "cell_type": "code",
   "execution_count": 17,
   "id": "20606a7e",
   "metadata": {},
   "outputs": [
    {
     "name": "stdout",
     "output_type": "stream",
     "text": [
      "+--------------------------+------------------------------+--------------------------------------+--------------------------+---------------------+\n",
      "|md5(pipohecho@hotmail.com)|md5(rozas_huertas@hotmail.com)|md5(miguelilloooooooooouu@hotmail.com)|md5(rjdzpmsyi@hotmail.com)|md5(pepe@hotmail.com)|\n",
      "+--------------------------+------------------------------+--------------------------------------+--------------------------+---------------------+\n",
      "|      7ce30aa0209335873...|          9d58c495ab87f2e3a...|                  c283a7c6f09712fc5...|      6766da691171aa5c5...| ab888b1a15b420b41...|\n",
      "+--------------------------+------------------------------+--------------------------------------+--------------------------+---------------------+\n",
      "\n"
     ]
    }
   ],
   "source": [
    "spark.sql(\"\"\"select md5('pipohecho@hotmail.com'),\n",
    "       md5('rozas_huertas@hotmail.com'),\n",
    "       md5('miguelilloooooooooouu@hotmail.com'),\n",
    "       md5('rjdzpmsyi@hotmail.com'),\n",
    "       md5('pepe@hotmail.com')\"\"\").show()"
   ]
  },
  {
   "cell_type": "code",
   "execution_count": 18,
   "id": "c071c25c",
   "metadata": {},
   "outputs": [
    {
     "data": {
      "text/plain": [
       "[('sr_number', 'string'),\n",
       " ('sr_type', 'string'),\n",
       " ('sr_short_code', 'string'),\n",
       " ('owner_department', 'string'),\n",
       " ('status', 'string'),\n",
       " ('created_date', 'string'),\n",
       " ('last_modified_date', 'string'),\n",
       " ('closed_date', 'string'),\n",
       " ('street_address', 'string'),\n",
       " ('city', 'string'),\n",
       " ('state', 'string'),\n",
       " ('zip_code', 'bigint'),\n",
       " ('street_number', 'bigint'),\n",
       " ('street_direction', 'string'),\n",
       " ('street_name', 'string'),\n",
       " ('street_type', 'string'),\n",
       " ('duplicate', 'boolean'),\n",
       " ('legacy_record', 'boolean'),\n",
       " ('legacy_sr_number', 'int'),\n",
       " ('parent_sr_number', 'string'),\n",
       " ('community_area', 'bigint'),\n",
       " ('ward', 'bigint'),\n",
       " ('electrical_district', 'int'),\n",
       " ('electricity_grid', 'string'),\n",
       " ('police_sector', 'bigint'),\n",
       " ('police_district', 'bigint'),\n",
       " ('police_beat', 'bigint'),\n",
       " ('precinct', 'bigint'),\n",
       " ('sanitation_division_days', 'int'),\n",
       " ('created_hour', 'bigint'),\n",
       " ('created_day_of_week', 'bigint'),\n",
       " ('created_month', 'bigint'),\n",
       " ('x_coordinate', 'double'),\n",
       " ('y_coordinate', 'double'),\n",
       " ('latitude', 'double'),\n",
       " ('longitude', 'double'),\n",
       " ('location', 'string')]"
      ]
     },
     "execution_count": 18,
     "metadata": {},
     "output_type": "execute_result"
    }
   ],
   "source": [
    "df.dtypes"
   ]
  },
  {
   "cell_type": "code",
   "execution_count": null,
   "id": "aa567d28",
   "metadata": {},
   "outputs": [],
   "source": [
    "df =df.repartition(10)"
   ]
  }
 ],
 "metadata": {
  "kernelspec": {
   "display_name": "Python 3 (ipykernel)",
   "language": "python",
   "name": "python3"
  },
  "language_info": {
   "codemirror_mode": {
    "name": "ipython",
    "version": 3
   },
   "file_extension": ".py",
   "mimetype": "text/x-python",
   "name": "python",
   "nbconvert_exporter": "python",
   "pygments_lexer": "ipython3",
   "version": "3.9.7"
  }
 },
 "nbformat": 4,
 "nbformat_minor": 5
}
