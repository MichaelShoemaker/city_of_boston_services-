{
 "cells": [
  {
   "cell_type": "code",
   "execution_count": 125,
   "id": "1bc66361",
   "metadata": {},
   "outputs": [],
   "source": [
    "import pyspark\n",
    "from pyspark.sql import SparkSession\n",
    "import warnings\n",
    "warnings.filterwarnings('ignore')\n",
    "import warnings; warnings.simplefilter('ignore')\n",
    "import pandas as pd\n",
    "from pyspark.sql.functions import *\n",
    "from google.cloud import storage\n",
    "from pyspark.sql import types"
   ]
  },
  {
   "cell_type": "code",
   "execution_count": 126,
   "id": "d76dc395",
   "metadata": {},
   "outputs": [],
   "source": [
    "spark = SparkSession.builder \\\n",
    "        .master(\"local\") \\\n",
    "        .appName(\"311 Service Request\") \\\n",
    "        .getOrCreate()\n",
    "\n",
    "spark.sparkContext.setLogLevel(\"ERROR\")"
   ]
  },
  {
   "cell_type": "code",
   "execution_count": 127,
   "id": "d30aba50",
   "metadata": {},
   "outputs": [],
   "source": [
    "\n",
    "\n",
    "schema = types.StructType([\n",
    " types.StructField('sr_number', types.StringType(),True),\n",
    " types.StructField('sr_type', types.StringType(),True),\n",
    " types.StructField('sr_short_code', types.StringType(),True),\n",
    " types.StructField('owner_department', types.StringType(),True),\n",
    " types.StructField('status', types.StringType(),True),\n",
    " types.StructField('created_date', types.TimestampType(),True),\n",
    " types.StructField('last_modified_date', types.TimestampType(),True),\n",
    " types.StructField('closed_date', types.TimestampType(),True),\n",
    " types.StructField('street_address', types.StringType(),True),\n",
    " types.StructField('city', types.StringType(),True),\n",
    " types.StructField('state', types.StringType(),True),\n",
    " types.StructField('zip_code', types.LongType(), True),\n",
    " types.StructField('street_number', types.LongType(), True),\n",
    " types.StructField('street_direction', types.StringType(), True),\n",
    " types.StructField('street_name', types.StringType(), True),\n",
    " types.StructField('street_type', types.StringType(), True),\n",
    " types.StructField('duplicate', types.BooleanType(), True),\n",
    " types.StructField('legacy_record', types.BooleanType(), True),\n",
    " types.StructField('legacy_sr_number', types.IntegerType(),True),\n",
    " types.StructField('parent_sr_number', types.BinaryType(),True),\n",
    " types.StructField('community_area', types.LongType(),True),\n",
    " types.StructField('ward', types.LongType(),True),\n",
    " types.StructField('electrical_district', types.FloatType(),True),\n",
    " types.StructField('electricity_grid', types.StringType(),True),\n",
    " types.StructField('police_sector', types.LongType(), True),\n",
    " types.StructField('police_district', types.FloatType(), True),\n",
    " types.StructField('police_beat', types.FloatType(), True),\n",
    " types.StructField('precinct', types.LongType(), True),\n",
    " types.StructField('sanitation_division_days', types.IntegerType(), True),\n",
    " types.StructField('created_hour', types.LongType(), True),\n",
    " types.StructField('created_day_of_week', types.LongType(), True),\n",
    " types.StructField('created_month', types.LongType(), True),\n",
    " types.StructField('x_coordinate', types.DoubleType(), True),\n",
    " types.StructField('y_coordinate', types.DoubleType(), True),\n",
    " types.StructField('latitude', types.DoubleType(), True),\n",
    " types.StructField('longitude', types.DoubleType(), True),\n",
    " types.StructField('location', types.StringType(),True)\n",
    " ])"
   ]
  },
  {
   "cell_type": "code",
   "execution_count": 132,
   "id": "ef901a42",
   "metadata": {},
   "outputs": [],
   "source": [
    "df = spark.read \\\n",
    "    .option(\"header\",True) \\\n",
    "    .schema(schema) \\\n",
    "    .csv(\"gs://datalake-311-bronze/311request_2022_03_21-03_42_29_AM.csv\")\n"
   ]
  },
  {
   "cell_type": "code",
   "execution_count": 134,
   "id": "b4549062",
   "metadata": {},
   "outputs": [],
   "source": [
    "df_sel =df.select(\"sr_number\", \"sr_type\", \"sr_short_code\", \"owner_department\",\"status\", \"created_date\", \\\n",
    "                  \"last_modified_date\", \"closed_date\", \"street_address\", \"city\", \"state\", \\\n",
    "                  \"zip_code\", \"street_number\", \"street_type\", \"duplicate\")\n"
   ]
  },
  {
   "cell_type": "code",
   "execution_count": 131,
   "id": "fee84554",
   "metadata": {},
   "outputs": [
    {
     "name": "stderr",
     "output_type": "stream",
     "text": [
      "                                                                                \r"
     ]
    },
    {
     "data": {
      "text/plain": [
       "2726"
      ]
     },
     "execution_count": 131,
     "metadata": {},
     "output_type": "execute_result"
    }
   ],
   "source": [
    "df_sel.count()"
   ]
  },
  {
   "cell_type": "code",
   "execution_count": 135,
   "id": "944814e2",
   "metadata": {},
   "outputs": [],
   "source": [
    "df1 =df_sel.withColumn(\"hash_sr_number\", sha2(col(\"sr_number\"),256))"
   ]
  },
  {
   "cell_type": "code",
   "execution_count": 136,
   "id": "bef421f3",
   "metadata": {},
   "outputs": [
    {
     "data": {
      "text/plain": [
       "<bound method DataFrame.printSchema of DataFrame[sr_number: string, sr_type: string, sr_short_code: string, owner_department: string, status: string, created_date: timestamp, last_modified_date: timestamp, closed_date: timestamp, street_address: string, city: string, state: string, zip_code: bigint, street_number: bigint, street_type: string, duplicate: boolean, hash_sr_number: string]>"
      ]
     },
     "execution_count": 136,
     "metadata": {},
     "output_type": "execute_result"
    }
   ],
   "source": [
    "df1.printSchema\n"
   ]
  },
  {
   "cell_type": "code",
   "execution_count": 164,
   "id": "4a3280ef",
   "metadata": {},
   "outputs": [
    {
     "name": "stderr",
     "output_type": "stream",
     "text": [
      "\r",
      "[Stage 116:>                                                        (0 + 1) / 1]\r"
     ]
    },
    {
     "name": "stdout",
     "output_type": "stream",
     "text": [
      "+---------+-----+\n",
      "|duplicate|count|\n",
      "+---------+-----+\n",
      "|     null| 1726|\n",
      "|     true|   47|\n",
      "|    false|  953|\n",
      "+---------+-----+\n",
      "\n"
     ]
    },
    {
     "name": "stderr",
     "output_type": "stream",
     "text": [
      "\r",
      "                                                                                \r"
     ]
    },
    {
     "data": {
      "text/plain": [
       "0"
      ]
     },
     "execution_count": 164,
     "metadata": {},
     "output_type": "execute_result"
    }
   ],
   "source": [
    "df1.groupBy(\"duplicate\").count().show()\n",
    "df1.filter(df1.duplicate == ' ').count()"
   ]
  },
  {
   "cell_type": "code",
   "execution_count": 190,
   "id": "35fde3f8",
   "metadata": {},
   "outputs": [],
   "source": [
    "df2 =df1.na.fill(False)   #.filter(df1.duplicate != 'true').show(10)"
   ]
  },
  {
   "cell_type": "code",
   "execution_count": 194,
   "id": "855cc4da",
   "metadata": {},
   "outputs": [
    {
     "name": "stderr",
     "output_type": "stream",
     "text": [
      "                                                                                \r"
     ]
    },
    {
     "data": {
      "text/plain": [
       "2679"
      ]
     },
     "execution_count": 194,
     "metadata": {},
     "output_type": "execute_result"
    }
   ],
   "source": [
    "df2.select(\"duplicate\").filter(df2.duplicate == 'true').count()\n",
    "df2.select(\"duplicate\").filter(df2.duplicate != 'true').count()"
   ]
  },
  {
   "cell_type": "code",
   "execution_count": 196,
   "id": "88fc0efa",
   "metadata": {},
   "outputs": [
    {
     "name": "stdout",
     "output_type": "stream",
     "text": [
      "+-------------------+--------------------+-------------------+-------------------+-------------------+\n",
      "|          sr_number|             sr_type|       created_date| last_modified_date|        closed_date|\n",
      "+-------------------+--------------------+-------------------+-------------------+-------------------+\n",
      "|      SR22-00454513|Street Light Out ...|2022-03-20 21:15:03|2022-03-20 21:15:05|               null|\n",
      "|               null|                    |               null|               null|               null|\n",
      "| (41.99184798194465| -87.665447242925...|               null|               null|               null|\n",
      "|      SR22-00454512|311 INFORMATION O...|2022-03-20 21:14:46|2022-03-20 21:14:47|2022-03-20 21:14:47|\n",
      "|      SR22-00454511|Aircraft Noise Co...|2022-03-20 21:14:46|2022-03-20 21:14:47|2022-03-20 21:14:47|\n",
      "|      SR22-00454510|Aircraft Noise Co...|2022-03-20 21:14:43|2022-03-20 21:14:43|2022-03-20 21:14:43|\n",
      "|      SR22-00454509|Aircraft Noise Co...|2022-03-20 21:14:34|2022-03-20 21:14:35|2022-03-20 21:14:35|\n",
      "|      SR22-00454508|311 INFORMATION O...|2022-03-20 21:14:02|2022-03-20 21:14:02|2022-03-20 21:14:02|\n",
      "|      SR22-00454507|Aircraft Noise Co...|2022-03-20 21:13:52|2022-03-20 21:13:52|2022-03-20 21:13:52|\n",
      "|      SR22-00454506|Alley Light Out C...|2022-03-20 21:13:46|2022-03-20 21:14:11|               null|\n",
      "|               null|                    |               null|               null|               null|\n",
      "| (41.70450647809941| -87.606106086060...|               null|               null|               null|\n",
      "|      SR22-00454505|311 INFORMATION O...|2022-03-20 21:13:44|2022-03-20 21:13:45|2022-03-20 21:13:44|\n",
      "|      SR22-00454504|Street Light Out ...|2022-03-20 21:13:21|2022-03-20 21:13:38|               null|\n",
      "|               null|                    |               null|               null|               null|\n",
      "| (41.70450647809941| -87.606106086060...|               null|               null|               null|\n",
      "|      SR22-00454503|Pothole in Street...|2022-03-20 21:13:03|2022-03-20 21:13:05|               null|\n",
      "|               null|                    |               null|               null|               null|\n",
      "| (41.98864432549011| -87.795564303373...|               null|               null|               null|\n",
      "|      SR22-00454502|311 INFORMATION O...|2022-03-20 21:13:00|2022-03-20 21:13:00|2022-03-20 21:13:00|\n",
      "|      SR22-00454501|Aircraft Noise Co...|2022-03-20 21:12:43|2022-03-20 21:12:44|2022-03-20 21:12:43|\n",
      "|      SR22-00454500|Aircraft Noise Co...|2022-03-20 21:12:37|2022-03-20 21:12:38|2022-03-20 21:12:37|\n",
      "|      SR22-00454499|Aircraft Noise Co...|2022-03-20 21:12:36|2022-03-20 21:12:37|2022-03-20 21:12:36|\n",
      "|      SR22-00454498|Aircraft Noise Co...|2022-03-20 21:12:20|2022-03-20 21:12:20|2022-03-20 21:12:20|\n",
      "|      SR22-00454497|Rodent Baiting/Ra...|2022-03-20 21:12:15|2022-03-20 21:12:17|               null|\n",
      "|               null|                    |               null|               null|               null|\n",
      "| (41.99177710528073| -87.673968333611...|               null|               null|               null|\n",
      "|      SR22-00454496|311 INFORMATION O...|2022-03-20 21:11:56|2022-03-20 21:11:56|2022-03-20 21:11:56|\n",
      "|      SR22-00454495|Alley Pothole Com...|2022-03-20 21:11:45|2022-03-20 21:11:46|               null|\n",
      "|               null|                    |               null|               null|               null|\n",
      "| (41.78665600447735| -87.725208814460...|               null|               null|               null|\n",
      "|      SR22-00454494|311 INFORMATION O...|2022-03-20 21:11:30|2022-03-20 21:11:30|2022-03-20 21:11:30|\n",
      "|      SR22-00454493|Street Light Out ...|2022-03-20 21:11:27|2022-03-20 21:11:57|               null|\n",
      "|               null|                    |               null|               null|               null|\n",
      "| (41.85553965228413| -87.703058119130...|               null|               null|               null|\n",
      "|      SR22-00454491|Aircraft Noise Co...|2022-03-20 21:11:13|2022-03-20 21:11:14|2022-03-20 21:11:13|\n",
      "|      SR22-00454490|Street Light Out ...|2022-03-20 21:10:50|2022-03-20 21:10:50|               null|\n",
      "|               null|                    |               null|               null|               null|\n",
      "|(41.749642930976655| -87.565894259365...|               null|               null|               null|\n",
      "|      SR22-00454489|Garbage Cart Main...|2022-03-20 21:10:19|2022-03-20 21:10:20|               null|\n",
      "|               null|                    |               null|               null|               null|\n",
      "| (41.99210501774642| -87.6735256087381)\"|               null|               null|               null|\n",
      "|      SR22-00454488|Yard Waste Pick-U...|2022-03-20 21:09:38|2022-03-20 21:09:40|               null|\n",
      "|               null|                    |               null|               null|               null|\n",
      "| (41.80735440675905| -87.599578495136...|               null|               null|               null|\n",
      "|      SR22-00454487|311 INFORMATION O...|2022-03-20 21:09:34|2022-03-20 21:09:34|2022-03-20 21:09:34|\n",
      "|      SR22-00454486|Street Light Out ...|2022-03-20 21:09:31|2022-03-20 21:09:42|               null|\n",
      "|               null|                    |               null|               null|               null|\n",
      "| (41.74931175171968| -87.5658983741039)\"|               null|               null|               null|\n",
      "|      SR22-00454485|Street Light Out ...|2022-03-20 21:08:55|2022-03-20 21:09:02|               null|\n",
      "|               null|                    |               null|               null|               null|\n",
      "| (41.72252188401801| -87.571721599267...|               null|               null|               null|\n",
      "|      SR22-00454484|Street Light Out ...|2022-03-20 21:08:06|2022-03-20 21:08:06|               null|\n",
      "|               null|                    |               null|               null|               null|\n",
      "|  (41.7205988851834| -87.571081241507...|               null|               null|               null|\n",
      "|      SR22-00454483|Aircraft Noise Co...|2022-03-20 21:07:57|2022-03-20 21:07:57|2022-03-20 21:07:57|\n",
      "|      SR22-00454482|Street Light Out ...|2022-03-20 21:07:46|2022-03-20 21:07:47|               null|\n",
      "|               null|                    |               null|               null|               null|\n",
      "| (41.74953403407396| -87.5658975575857)\"|               null|               null|               null|\n",
      "|      SR22-00454480|Aircraft Noise Co...|2022-03-20 21:07:26|2022-03-20 21:07:26|2022-03-20 21:07:26|\n",
      "|      SR22-00454479|Aircraft Noise Co...|2022-03-20 21:07:18|2022-03-20 21:07:19|2022-03-20 21:07:19|\n",
      "|      SR22-00454478|311 INFORMATION O...|2022-03-20 21:07:12|2022-03-20 21:07:13|2022-03-20 21:07:13|\n",
      "|      SR22-00454477|311 INFORMATION O...|2022-03-20 21:07:12|2022-03-20 21:07:13|2022-03-20 21:07:13|\n",
      "|      SR22-00454476|Aircraft Noise Co...|2022-03-20 21:07:03|2022-03-20 21:07:04|2022-03-20 21:07:04|\n",
      "|      SR22-00454475|Aircraft Noise Co...|2022-03-20 21:07:03|2022-03-20 21:07:04|2022-03-20 21:07:03|\n",
      "|      SR22-00454474|Street Light Out ...|2022-03-20 21:07:01|2022-03-20 21:07:08|               null|\n",
      "|               null|                    |               null|               null|               null|\n",
      "|(41.991976575643484| -87.665698980391...|               null|               null|               null|\n",
      "|      SR22-00454473|Aircraft Noise Co...|2022-03-20 21:06:58|2022-03-20 21:06:59|2022-03-20 21:06:59|\n",
      "|      SR22-00454472|Aircraft Noise Co...|2022-03-20 21:06:58|2022-03-20 21:06:59|2022-03-20 21:06:58|\n",
      "|      SR22-00454471|Aircraft Noise Co...|2022-03-20 21:06:50|2022-03-20 21:06:51|2022-03-20 21:06:51|\n",
      "|      SR22-00454470|Aircraft Noise Co...|2022-03-20 21:06:45|2022-03-20 21:06:46|2022-03-20 21:06:45|\n",
      "|      SR22-00454469|311 INFORMATION O...|2022-03-20 21:06:32|2022-03-20 21:06:32|2022-03-20 21:06:32|\n",
      "|      SR22-00454468|Aircraft Noise Co...|2022-03-20 21:06:20|2022-03-20 21:06:20|2022-03-20 21:06:20|\n",
      "|      SR22-00454467|Street Light Out ...|2022-03-20 21:06:10|2022-03-20 21:10:50|               null|\n",
      "|               null|                    |               null|               null|               null|\n",
      "| (41.74953403407396| -87.5658975575857)\"|               null|               null|               null|\n",
      "|      SR22-00454466|311 INFORMATION O...|2022-03-20 21:06:06|2022-03-20 21:06:06|2022-03-20 21:06:06|\n",
      "|      SR22-00454465|Alley Light Out C...|2022-03-20 21:05:35|2022-03-20 21:05:35|               null|\n",
      "|               null|                    |               null|               null|               null|\n",
      "|(41.741290064492944| -87.614300138836...|               null|               null|               null|\n",
      "|      SR22-00454464|Aircraft Noise Co...|2022-03-20 21:05:33|2022-03-20 21:05:33|2022-03-20 21:05:33|\n",
      "|      SR22-00454463|311 INFORMATION O...|2022-03-20 21:05:13|2022-03-20 21:05:14|2022-03-20 21:05:13|\n",
      "|      SR22-00454462|311 INFORMATION O...|2022-03-20 21:05:07|2022-03-20 21:05:07|2022-03-20 21:05:07|\n",
      "|      SR22-00454461|Street Light Out ...|2022-03-20 21:04:58|2022-03-20 21:05:02|               null|\n",
      "|               null|                    |               null|               null|               null|\n",
      "|(41.796186610642536| -87.703191788862...|               null|               null|               null|\n",
      "|      SR22-00454460|Aircraft Noise Co...|2022-03-20 21:04:38|2022-03-20 21:04:38|2022-03-20 21:04:38|\n",
      "|      SR22-00454459|Garbage Cart Main...|2022-03-20 21:04:09|2022-03-20 21:04:10|               null|\n",
      "|               null|                    |               null|               null|               null|\n",
      "| (41.67566118855794| -87.625924880366...|               null|               null|               null|\n",
      "|      SR22-00454458|Street Light Out ...|2022-03-20 21:04:07|2022-03-20 21:04:12|               null|\n",
      "|               null|                    |               null|               null|               null|\n",
      "| (41.79619149690822| -87.7029226664867)\"|               null|               null|               null|\n",
      "|      SR22-00454457|311 INFORMATION O...|2022-03-20 21:03:59|2022-03-20 21:04:00|2022-03-20 21:03:59|\n",
      "|      SR22-00454456|Aircraft Noise Co...|2022-03-20 21:03:56|2022-03-20 21:03:57|2022-03-20 21:03:56|\n",
      "|      SR22-00454454|311 INFORMATION O...|2022-03-20 21:03:32|2022-03-20 21:03:33|2022-03-20 21:03:32|\n",
      "|      SR22-00454453|Aircraft Noise Co...|2022-03-20 21:03:25|2022-03-20 21:03:25|2022-03-20 21:03:25|\n",
      "|      SR22-00454452|Aircraft Noise Co...|2022-03-20 21:03:15|2022-03-20 21:03:16|2022-03-20 21:03:16|\n",
      "|      SR22-00454451|311 INFORMATION O...|2022-03-20 21:02:49|2022-03-20 21:02:49|2022-03-20 21:02:49|\n",
      "+-------------------+--------------------+-------------------+-------------------+-------------------+\n",
      "only showing top 100 rows\n",
      "\n"
     ]
    },
    {
     "name": "stderr",
     "output_type": "stream",
     "text": [
      "\r",
      "[Stage 166:>                                                        (0 + 1) / 1]\r",
      "\r",
      "                                                                                \r"
     ]
    }
   ],
   "source": [
    "df2.select(\"sr_number\",\"sr_type\", \"created_date\",\"last_modified_date\", \"closed_date\" ).show(100)"
   ]
  },
  {
   "cell_type": "code",
   "execution_count": null,
   "id": "b4e79bc3",
   "metadata": {},
   "outputs": [],
   "source": [
    "sr_number: string, sr_type: string, sr_short_code: string, owner_department: string, status: string, created_date: timestamp, last_modified_date: timestamp, closed_date"
   ]
  }
 ],
 "metadata": {
  "kernelspec": {
   "display_name": "Python 3 (ipykernel)",
   "language": "python",
   "name": "python3"
  },
  "language_info": {
   "codemirror_mode": {
    "name": "ipython",
    "version": 3
   },
   "file_extension": ".py",
   "mimetype": "text/x-python",
   "name": "python",
   "nbconvert_exporter": "python",
   "pygments_lexer": "ipython3",
   "version": "3.9.7"
  }
 },
 "nbformat": 4,
 "nbformat_minor": 5
}
