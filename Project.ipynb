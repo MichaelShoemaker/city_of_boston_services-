{
 "cells": [
  {
   "cell_type": "code",
   "execution_count": 1,
   "id": "f6148ea4",
   "metadata": {},
   "outputs": [
    {
     "data": {
      "text/html": [
       "<style>pre { white-space: pre !important; }</style>"
      ],
      "text/plain": [
       "<IPython.core.display.HTML object>"
      ]
     },
     "metadata": {},
     "output_type": "display_data"
    }
   ],
   "source": [
    "import pyspark\n",
    "from pyspark.sql import SparkSession\n",
    "import warnings\n",
    "warnings.filterwarnings('ignore')\n",
    "import warnings; warnings.simplefilter('ignore')\n",
    "import pandas as pd\n",
    "from pyspark.sql.functions import *\n",
    "from google.cloud import storage\n",
    "from pyspark.sql import types\n",
    "from pyspark.sql.functions import date_format\n",
    "from IPython.core.display import HTML\n",
    "display(HTML(\"<style>pre { white-space: pre !important; }</style>\"))"
   ]
  },
  {
   "cell_type": "code",
   "execution_count": 3,
   "id": "290540bb",
   "metadata": {
    "scrolled": true
   },
   "outputs": [],
   "source": [
    "spark = SparkSession.builder \\\n",
    "        .master(\"local\") \\\n",
    "        .appName(\"Boston Service Request\") \\\n",
    "        .getOrCreate()\n",
    "\n",
    "spark.sparkContext.setLogLevel(\"ERROR\")"
   ]
  },
  {
   "cell_type": "code",
   "execution_count": 4,
   "id": "2ef667bc",
   "metadata": {},
   "outputs": [],
   "source": [
    "schema = types.StructType([\n",
    "types.StructField('case_enquiry_id', types.StringType(),True),\n",
    "types.StructField('open_dt', types.StringType(),True),\n",
    "types.StructField('target_dt', types.TimestampType(),True),\n",
    "types.StructField('closed_dt', types.TimestampType(),True),\n",
    "types.StructField('ontime', types.StringType(),True),\n",
    "types.StructField('case_status', types.StringType(),True),\n",
    "types.StructField('closure_reason', types.StringType(),True),\n",
    "types.StructField('case_title', types.StringType(),True),\n",
    "types.StructField('subject', types.StringType(),True),\n",
    "types.StructField('reason', types.StringType(),True),\n",
    "types.StructField('type', types.StringType(),True),\n",
    "types.StructField('queue', types.StringType(),True),\n",
    "types.StructField('department', types.StringType(),True),\n",
    "types.StructField('submittedphoto', types.StringType(),True),\n",
    "types.StructField('closedphoto', types.StringType(),True),\n",
    "types.StructField('location', types.StringType(),True),\n",
    "types.StructField('fire_district', types.StringType(),True),\n",
    "types.StructField('pwd_district', types.StringType(),True),\n",
    "types.StructField('city_council_district', types.StringType(),True),\n",
    "types.StructField('police_district', types.StringType(),True),\n",
    "types.StructField('neighborhood', types.StringType(),True),\n",
    "types.StructField('neighborhood_services_district', types.StringType(),True),\n",
    "types.StructField('ward', types.StringType(),True),\n",
    "types.StructField('precinct', types.StringType(),True),\n",
    "types.StructField('location_street_name', types.StringType(),True),\n",
    "types.StructField('location_zipcode', types.StringType(),True),\n",
    "types.StructField('latitude', types.StringType(),True),\n",
    "types.StructField('longitude', types.StringType(),True),\n",
    "types.StructField('source', types.StringType(),True)\n",
    "])"
   ]
  },
  {
   "cell_type": "code",
   "execution_count": 102,
   "id": "8663cf0a",
   "metadata": {
    "collapsed": true
   },
   "outputs": [
    {
     "name": "stderr",
     "output_type": "stream",
     "text": [
      "\r",
      "[Stage 739:=======================================>                (7 + 1) / 10]\r",
      "\r",
      "                                                                                \r"
     ]
    },
    {
     "ename": "KeyboardInterrupt",
     "evalue": "",
     "output_type": "error",
     "traceback": [
      "\u001b[0;31m---------------------------------------------------------------------------\u001b[0m",
      "\u001b[0;31mKeyboardInterrupt\u001b[0m                         Traceback (most recent call last)",
      "\u001b[0;32m/var/folders/rz/fm6f1m9d3d1_92kkr2jd0zfh0000gn/T/ipykernel_1973/2638832642.py\u001b[0m in \u001b[0;36m<module>\u001b[0;34m\u001b[0m\n\u001b[1;32m      1\u001b[0m \u001b[0mpandasDF\u001b[0m \u001b[0;34m=\u001b[0m \u001b[0mdf\u001b[0m\u001b[0;34m.\u001b[0m\u001b[0mtoPandas\u001b[0m\u001b[0;34m(\u001b[0m\u001b[0;34m)\u001b[0m\u001b[0;34m\u001b[0m\u001b[0;34m\u001b[0m\u001b[0m\n\u001b[0;32m----> 2\u001b[0;31m \u001b[0mspark\u001b[0m\u001b[0;34m.\u001b[0m\u001b[0mcreateDataFrame\u001b[0m\u001b[0;34m(\u001b[0m\u001b[0mpandasDF\u001b[0m\u001b[0;34m)\u001b[0m\u001b[0;34m.\u001b[0m\u001b[0mschema\u001b[0m\u001b[0;34m\u001b[0m\u001b[0;34m\u001b[0m\u001b[0m\n\u001b[0m",
      "\u001b[0;32m/opt/homebrew/Cellar/apache-spark/3.2.1/libexec/python/pyspark/sql/session.py\u001b[0m in \u001b[0;36mcreateDataFrame\u001b[0;34m(self, data, schema, samplingRatio, verifySchema)\u001b[0m\n\u001b[1;32m    671\u001b[0m         \u001b[0;32mif\u001b[0m \u001b[0mhas_pandas\u001b[0m \u001b[0;32mand\u001b[0m \u001b[0misinstance\u001b[0m\u001b[0;34m(\u001b[0m\u001b[0mdata\u001b[0m\u001b[0;34m,\u001b[0m \u001b[0mpandas\u001b[0m\u001b[0;34m.\u001b[0m\u001b[0mDataFrame\u001b[0m\u001b[0;34m)\u001b[0m\u001b[0;34m:\u001b[0m\u001b[0;34m\u001b[0m\u001b[0;34m\u001b[0m\u001b[0m\n\u001b[1;32m    672\u001b[0m             \u001b[0;31m# Create a DataFrame from pandas DataFrame.\u001b[0m\u001b[0;34m\u001b[0m\u001b[0;34m\u001b[0m\u001b[0m\n\u001b[0;32m--> 673\u001b[0;31m             return super(SparkSession, self).createDataFrame(\n\u001b[0m\u001b[1;32m    674\u001b[0m                 data, schema, samplingRatio, verifySchema)\n\u001b[1;32m    675\u001b[0m         \u001b[0;32mreturn\u001b[0m \u001b[0mself\u001b[0m\u001b[0;34m.\u001b[0m\u001b[0m_create_dataframe\u001b[0m\u001b[0;34m(\u001b[0m\u001b[0mdata\u001b[0m\u001b[0;34m,\u001b[0m \u001b[0mschema\u001b[0m\u001b[0;34m,\u001b[0m \u001b[0msamplingRatio\u001b[0m\u001b[0;34m,\u001b[0m \u001b[0mverifySchema\u001b[0m\u001b[0;34m)\u001b[0m\u001b[0;34m\u001b[0m\u001b[0;34m\u001b[0m\u001b[0m\n",
      "\u001b[0;32m/opt/homebrew/Cellar/apache-spark/3.2.1/libexec/python/pyspark/sql/pandas/conversion.py\u001b[0m in \u001b[0;36mcreateDataFrame\u001b[0;34m(self, data, schema, samplingRatio, verifySchema)\u001b[0m\n\u001b[1;32m    338\u001b[0m                     \u001b[0;32mraise\u001b[0m\u001b[0;34m\u001b[0m\u001b[0;34m\u001b[0m\u001b[0m\n\u001b[1;32m    339\u001b[0m         \u001b[0mdata\u001b[0m \u001b[0;34m=\u001b[0m \u001b[0mself\u001b[0m\u001b[0;34m.\u001b[0m\u001b[0m_convert_from_pandas\u001b[0m\u001b[0;34m(\u001b[0m\u001b[0mdata\u001b[0m\u001b[0;34m,\u001b[0m \u001b[0mschema\u001b[0m\u001b[0;34m,\u001b[0m \u001b[0mtimezone\u001b[0m\u001b[0;34m)\u001b[0m\u001b[0;34m\u001b[0m\u001b[0;34m\u001b[0m\u001b[0m\n\u001b[0;32m--> 340\u001b[0;31m         \u001b[0;32mreturn\u001b[0m \u001b[0mself\u001b[0m\u001b[0;34m.\u001b[0m\u001b[0m_create_dataframe\u001b[0m\u001b[0;34m(\u001b[0m\u001b[0mdata\u001b[0m\u001b[0;34m,\u001b[0m \u001b[0mschema\u001b[0m\u001b[0;34m,\u001b[0m \u001b[0msamplingRatio\u001b[0m\u001b[0;34m,\u001b[0m \u001b[0mverifySchema\u001b[0m\u001b[0;34m)\u001b[0m\u001b[0;34m\u001b[0m\u001b[0;34m\u001b[0m\u001b[0m\n\u001b[0m\u001b[1;32m    341\u001b[0m \u001b[0;34m\u001b[0m\u001b[0m\n\u001b[1;32m    342\u001b[0m     \u001b[0;32mdef\u001b[0m \u001b[0m_convert_from_pandas\u001b[0m\u001b[0;34m(\u001b[0m\u001b[0mself\u001b[0m\u001b[0;34m,\u001b[0m \u001b[0mpdf\u001b[0m\u001b[0;34m,\u001b[0m \u001b[0mschema\u001b[0m\u001b[0;34m,\u001b[0m \u001b[0mtimezone\u001b[0m\u001b[0;34m)\u001b[0m\u001b[0;34m:\u001b[0m\u001b[0;34m\u001b[0m\u001b[0;34m\u001b[0m\u001b[0m\n",
      "\u001b[0;32m/opt/homebrew/Cellar/apache-spark/3.2.1/libexec/python/pyspark/sql/session.py\u001b[0m in \u001b[0;36m_create_dataframe\u001b[0;34m(self, data, schema, samplingRatio, verifySchema)\u001b[0m\n\u001b[1;32m    698\u001b[0m             \u001b[0mrdd\u001b[0m\u001b[0;34m,\u001b[0m \u001b[0mschema\u001b[0m \u001b[0;34m=\u001b[0m \u001b[0mself\u001b[0m\u001b[0;34m.\u001b[0m\u001b[0m_createFromRDD\u001b[0m\u001b[0;34m(\u001b[0m\u001b[0mdata\u001b[0m\u001b[0;34m.\u001b[0m\u001b[0mmap\u001b[0m\u001b[0;34m(\u001b[0m\u001b[0mprepare\u001b[0m\u001b[0;34m)\u001b[0m\u001b[0;34m,\u001b[0m \u001b[0mschema\u001b[0m\u001b[0;34m,\u001b[0m \u001b[0msamplingRatio\u001b[0m\u001b[0;34m)\u001b[0m\u001b[0;34m\u001b[0m\u001b[0;34m\u001b[0m\u001b[0m\n\u001b[1;32m    699\u001b[0m         \u001b[0;32melse\u001b[0m\u001b[0;34m:\u001b[0m\u001b[0;34m\u001b[0m\u001b[0;34m\u001b[0m\u001b[0m\n\u001b[0;32m--> 700\u001b[0;31m             \u001b[0mrdd\u001b[0m\u001b[0;34m,\u001b[0m \u001b[0mschema\u001b[0m \u001b[0;34m=\u001b[0m \u001b[0mself\u001b[0m\u001b[0;34m.\u001b[0m\u001b[0m_createFromLocal\u001b[0m\u001b[0;34m(\u001b[0m\u001b[0mmap\u001b[0m\u001b[0;34m(\u001b[0m\u001b[0mprepare\u001b[0m\u001b[0;34m,\u001b[0m \u001b[0mdata\u001b[0m\u001b[0;34m)\u001b[0m\u001b[0;34m,\u001b[0m \u001b[0mschema\u001b[0m\u001b[0;34m)\u001b[0m\u001b[0;34m\u001b[0m\u001b[0;34m\u001b[0m\u001b[0m\n\u001b[0m\u001b[1;32m    701\u001b[0m         \u001b[0mjrdd\u001b[0m \u001b[0;34m=\u001b[0m \u001b[0mself\u001b[0m\u001b[0;34m.\u001b[0m\u001b[0m_jvm\u001b[0m\u001b[0;34m.\u001b[0m\u001b[0mSerDeUtil\u001b[0m\u001b[0;34m.\u001b[0m\u001b[0mtoJavaArray\u001b[0m\u001b[0;34m(\u001b[0m\u001b[0mrdd\u001b[0m\u001b[0;34m.\u001b[0m\u001b[0m_to_java_object_rdd\u001b[0m\u001b[0;34m(\u001b[0m\u001b[0;34m)\u001b[0m\u001b[0;34m)\u001b[0m\u001b[0;34m\u001b[0m\u001b[0;34m\u001b[0m\u001b[0m\n\u001b[1;32m    702\u001b[0m         \u001b[0mjdf\u001b[0m \u001b[0;34m=\u001b[0m \u001b[0mself\u001b[0m\u001b[0;34m.\u001b[0m\u001b[0m_jsparkSession\u001b[0m\u001b[0;34m.\u001b[0m\u001b[0mapplySchemaToPythonRDD\u001b[0m\u001b[0;34m(\u001b[0m\u001b[0mjrdd\u001b[0m\u001b[0;34m.\u001b[0m\u001b[0mrdd\u001b[0m\u001b[0;34m(\u001b[0m\u001b[0;34m)\u001b[0m\u001b[0;34m,\u001b[0m \u001b[0mschema\u001b[0m\u001b[0;34m.\u001b[0m\u001b[0mjson\u001b[0m\u001b[0;34m(\u001b[0m\u001b[0;34m)\u001b[0m\u001b[0;34m)\u001b[0m\u001b[0;34m\u001b[0m\u001b[0;34m\u001b[0m\u001b[0m\n",
      "\u001b[0;32m/opt/homebrew/Cellar/apache-spark/3.2.1/libexec/python/pyspark/sql/session.py\u001b[0m in \u001b[0;36m_createFromLocal\u001b[0;34m(self, data, schema)\u001b[0m\n\u001b[1;32m    524\u001b[0m         \u001b[0;31m# convert python objects to sql data\u001b[0m\u001b[0;34m\u001b[0m\u001b[0;34m\u001b[0m\u001b[0m\n\u001b[1;32m    525\u001b[0m         \u001b[0mdata\u001b[0m \u001b[0;34m=\u001b[0m \u001b[0;34m[\u001b[0m\u001b[0mschema\u001b[0m\u001b[0;34m.\u001b[0m\u001b[0mtoInternal\u001b[0m\u001b[0;34m(\u001b[0m\u001b[0mrow\u001b[0m\u001b[0;34m)\u001b[0m \u001b[0;32mfor\u001b[0m \u001b[0mrow\u001b[0m \u001b[0;32min\u001b[0m \u001b[0mdata\u001b[0m\u001b[0;34m]\u001b[0m\u001b[0;34m\u001b[0m\u001b[0;34m\u001b[0m\u001b[0m\n\u001b[0;32m--> 526\u001b[0;31m         \u001b[0;32mreturn\u001b[0m \u001b[0mself\u001b[0m\u001b[0;34m.\u001b[0m\u001b[0m_sc\u001b[0m\u001b[0;34m.\u001b[0m\u001b[0mparallelize\u001b[0m\u001b[0;34m(\u001b[0m\u001b[0mdata\u001b[0m\u001b[0;34m)\u001b[0m\u001b[0;34m,\u001b[0m \u001b[0mschema\u001b[0m\u001b[0;34m\u001b[0m\u001b[0;34m\u001b[0m\u001b[0m\n\u001b[0m\u001b[1;32m    527\u001b[0m \u001b[0;34m\u001b[0m\u001b[0m\n\u001b[1;32m    528\u001b[0m     \u001b[0;34m@\u001b[0m\u001b[0mstaticmethod\u001b[0m\u001b[0;34m\u001b[0m\u001b[0;34m\u001b[0m\u001b[0m\n",
      "\u001b[0;32m/opt/homebrew/Cellar/apache-spark/3.2.1/libexec/python/pyspark/context.py\u001b[0m in \u001b[0;36mparallelize\u001b[0;34m(self, c, numSlices)\u001b[0m\n\u001b[1;32m    572\u001b[0m             \u001b[0;32mreturn\u001b[0m \u001b[0mself\u001b[0m\u001b[0;34m.\u001b[0m\u001b[0m_jvm\u001b[0m\u001b[0;34m.\u001b[0m\u001b[0mPythonParallelizeServer\u001b[0m\u001b[0;34m(\u001b[0m\u001b[0mself\u001b[0m\u001b[0;34m.\u001b[0m\u001b[0m_jsc\u001b[0m\u001b[0;34m.\u001b[0m\u001b[0msc\u001b[0m\u001b[0;34m(\u001b[0m\u001b[0;34m)\u001b[0m\u001b[0;34m,\u001b[0m \u001b[0mnumSlices\u001b[0m\u001b[0;34m)\u001b[0m\u001b[0;34m\u001b[0m\u001b[0;34m\u001b[0m\u001b[0m\n\u001b[1;32m    573\u001b[0m \u001b[0;34m\u001b[0m\u001b[0m\n\u001b[0;32m--> 574\u001b[0;31m         \u001b[0mjrdd\u001b[0m \u001b[0;34m=\u001b[0m \u001b[0mself\u001b[0m\u001b[0;34m.\u001b[0m\u001b[0m_serialize_to_jvm\u001b[0m\u001b[0;34m(\u001b[0m\u001b[0mc\u001b[0m\u001b[0;34m,\u001b[0m \u001b[0mserializer\u001b[0m\u001b[0;34m,\u001b[0m \u001b[0mreader_func\u001b[0m\u001b[0;34m,\u001b[0m \u001b[0mcreateRDDServer\u001b[0m\u001b[0;34m)\u001b[0m\u001b[0;34m\u001b[0m\u001b[0;34m\u001b[0m\u001b[0m\n\u001b[0m\u001b[1;32m    575\u001b[0m         \u001b[0;32mreturn\u001b[0m \u001b[0mRDD\u001b[0m\u001b[0;34m(\u001b[0m\u001b[0mjrdd\u001b[0m\u001b[0;34m,\u001b[0m \u001b[0mself\u001b[0m\u001b[0;34m,\u001b[0m \u001b[0mserializer\u001b[0m\u001b[0;34m)\u001b[0m\u001b[0;34m\u001b[0m\u001b[0;34m\u001b[0m\u001b[0m\n\u001b[1;32m    576\u001b[0m \u001b[0;34m\u001b[0m\u001b[0m\n",
      "\u001b[0;32m/opt/homebrew/Cellar/apache-spark/3.2.1/libexec/python/pyspark/context.py\u001b[0m in \u001b[0;36m_serialize_to_jvm\u001b[0;34m(self, data, serializer, reader_func, createRDDServer)\u001b[0m\n\u001b[1;32m    609\u001b[0m             \u001b[0;32mtry\u001b[0m\u001b[0;34m:\u001b[0m\u001b[0;34m\u001b[0m\u001b[0;34m\u001b[0m\u001b[0m\n\u001b[1;32m    610\u001b[0m                 \u001b[0;32mtry\u001b[0m\u001b[0;34m:\u001b[0m\u001b[0;34m\u001b[0m\u001b[0;34m\u001b[0m\u001b[0m\n\u001b[0;32m--> 611\u001b[0;31m                     \u001b[0mserializer\u001b[0m\u001b[0;34m.\u001b[0m\u001b[0mdump_stream\u001b[0m\u001b[0;34m(\u001b[0m\u001b[0mdata\u001b[0m\u001b[0;34m,\u001b[0m \u001b[0mtempFile\u001b[0m\u001b[0;34m)\u001b[0m\u001b[0;34m\u001b[0m\u001b[0;34m\u001b[0m\u001b[0m\n\u001b[0m\u001b[1;32m    612\u001b[0m                 \u001b[0;32mfinally\u001b[0m\u001b[0;34m:\u001b[0m\u001b[0;34m\u001b[0m\u001b[0;34m\u001b[0m\u001b[0m\n\u001b[1;32m    613\u001b[0m                     \u001b[0mtempFile\u001b[0m\u001b[0;34m.\u001b[0m\u001b[0mclose\u001b[0m\u001b[0;34m(\u001b[0m\u001b[0;34m)\u001b[0m\u001b[0;34m\u001b[0m\u001b[0;34m\u001b[0m\u001b[0m\n",
      "\u001b[0;32m/opt/homebrew/Cellar/apache-spark/3.2.1/libexec/python/pyspark/serializers.py\u001b[0m in \u001b[0;36mdump_stream\u001b[0;34m(self, iterator, stream)\u001b[0m\n\u001b[1;32m    209\u001b[0m \u001b[0;34m\u001b[0m\u001b[0m\n\u001b[1;32m    210\u001b[0m     \u001b[0;32mdef\u001b[0m \u001b[0mdump_stream\u001b[0m\u001b[0;34m(\u001b[0m\u001b[0mself\u001b[0m\u001b[0;34m,\u001b[0m \u001b[0miterator\u001b[0m\u001b[0;34m,\u001b[0m \u001b[0mstream\u001b[0m\u001b[0;34m)\u001b[0m\u001b[0;34m:\u001b[0m\u001b[0;34m\u001b[0m\u001b[0;34m\u001b[0m\u001b[0m\n\u001b[0;32m--> 211\u001b[0;31m         \u001b[0mself\u001b[0m\u001b[0;34m.\u001b[0m\u001b[0mserializer\u001b[0m\u001b[0;34m.\u001b[0m\u001b[0mdump_stream\u001b[0m\u001b[0;34m(\u001b[0m\u001b[0mself\u001b[0m\u001b[0;34m.\u001b[0m\u001b[0m_batched\u001b[0m\u001b[0;34m(\u001b[0m\u001b[0miterator\u001b[0m\u001b[0;34m)\u001b[0m\u001b[0;34m,\u001b[0m \u001b[0mstream\u001b[0m\u001b[0;34m)\u001b[0m\u001b[0;34m\u001b[0m\u001b[0;34m\u001b[0m\u001b[0m\n\u001b[0m\u001b[1;32m    212\u001b[0m \u001b[0;34m\u001b[0m\u001b[0m\n\u001b[1;32m    213\u001b[0m     \u001b[0;32mdef\u001b[0m \u001b[0mload_stream\u001b[0m\u001b[0;34m(\u001b[0m\u001b[0mself\u001b[0m\u001b[0;34m,\u001b[0m \u001b[0mstream\u001b[0m\u001b[0;34m)\u001b[0m\u001b[0;34m:\u001b[0m\u001b[0;34m\u001b[0m\u001b[0;34m\u001b[0m\u001b[0m\n",
      "\u001b[0;32m/opt/homebrew/Cellar/apache-spark/3.2.1/libexec/python/pyspark/serializers.py\u001b[0m in \u001b[0;36mdump_stream\u001b[0;34m(self, iterator, stream)\u001b[0m\n\u001b[1;32m    131\u001b[0m     \u001b[0;32mdef\u001b[0m \u001b[0mdump_stream\u001b[0m\u001b[0;34m(\u001b[0m\u001b[0mself\u001b[0m\u001b[0;34m,\u001b[0m \u001b[0miterator\u001b[0m\u001b[0;34m,\u001b[0m \u001b[0mstream\u001b[0m\u001b[0;34m)\u001b[0m\u001b[0;34m:\u001b[0m\u001b[0;34m\u001b[0m\u001b[0;34m\u001b[0m\u001b[0m\n\u001b[1;32m    132\u001b[0m         \u001b[0;32mfor\u001b[0m \u001b[0mobj\u001b[0m \u001b[0;32min\u001b[0m \u001b[0miterator\u001b[0m\u001b[0;34m:\u001b[0m\u001b[0;34m\u001b[0m\u001b[0;34m\u001b[0m\u001b[0m\n\u001b[0;32m--> 133\u001b[0;31m             \u001b[0mself\u001b[0m\u001b[0;34m.\u001b[0m\u001b[0m_write_with_length\u001b[0m\u001b[0;34m(\u001b[0m\u001b[0mobj\u001b[0m\u001b[0;34m,\u001b[0m \u001b[0mstream\u001b[0m\u001b[0;34m)\u001b[0m\u001b[0;34m\u001b[0m\u001b[0;34m\u001b[0m\u001b[0m\n\u001b[0m\u001b[1;32m    134\u001b[0m \u001b[0;34m\u001b[0m\u001b[0m\n\u001b[1;32m    135\u001b[0m     \u001b[0;32mdef\u001b[0m \u001b[0mload_stream\u001b[0m\u001b[0;34m(\u001b[0m\u001b[0mself\u001b[0m\u001b[0;34m,\u001b[0m \u001b[0mstream\u001b[0m\u001b[0;34m)\u001b[0m\u001b[0;34m:\u001b[0m\u001b[0;34m\u001b[0m\u001b[0;34m\u001b[0m\u001b[0m\n",
      "\u001b[0;32m/opt/homebrew/Cellar/apache-spark/3.2.1/libexec/python/pyspark/serializers.py\u001b[0m in \u001b[0;36m_write_with_length\u001b[0;34m(self, obj, stream)\u001b[0m\n\u001b[1;32m    141\u001b[0m \u001b[0;34m\u001b[0m\u001b[0m\n\u001b[1;32m    142\u001b[0m     \u001b[0;32mdef\u001b[0m \u001b[0m_write_with_length\u001b[0m\u001b[0;34m(\u001b[0m\u001b[0mself\u001b[0m\u001b[0;34m,\u001b[0m \u001b[0mobj\u001b[0m\u001b[0;34m,\u001b[0m \u001b[0mstream\u001b[0m\u001b[0;34m)\u001b[0m\u001b[0;34m:\u001b[0m\u001b[0;34m\u001b[0m\u001b[0;34m\u001b[0m\u001b[0m\n\u001b[0;32m--> 143\u001b[0;31m         \u001b[0mserialized\u001b[0m \u001b[0;34m=\u001b[0m \u001b[0mself\u001b[0m\u001b[0;34m.\u001b[0m\u001b[0mdumps\u001b[0m\u001b[0;34m(\u001b[0m\u001b[0mobj\u001b[0m\u001b[0;34m)\u001b[0m\u001b[0;34m\u001b[0m\u001b[0;34m\u001b[0m\u001b[0m\n\u001b[0m\u001b[1;32m    144\u001b[0m         \u001b[0;32mif\u001b[0m \u001b[0mserialized\u001b[0m \u001b[0;32mis\u001b[0m \u001b[0;32mNone\u001b[0m\u001b[0;34m:\u001b[0m\u001b[0;34m\u001b[0m\u001b[0;34m\u001b[0m\u001b[0m\n\u001b[1;32m    145\u001b[0m             \u001b[0;32mraise\u001b[0m \u001b[0mValueError\u001b[0m\u001b[0;34m(\u001b[0m\u001b[0;34m\"serialized value should not be None\"\u001b[0m\u001b[0;34m)\u001b[0m\u001b[0;34m\u001b[0m\u001b[0;34m\u001b[0m\u001b[0m\n",
      "\u001b[0;32m/opt/homebrew/Cellar/apache-spark/3.2.1/libexec/python/pyspark/serializers.py\u001b[0m in \u001b[0;36mdumps\u001b[0;34m(self, obj)\u001b[0m\n\u001b[1;32m    425\u001b[0m \u001b[0;34m\u001b[0m\u001b[0m\n\u001b[1;32m    426\u001b[0m     \u001b[0;32mdef\u001b[0m \u001b[0mdumps\u001b[0m\u001b[0;34m(\u001b[0m\u001b[0mself\u001b[0m\u001b[0;34m,\u001b[0m \u001b[0mobj\u001b[0m\u001b[0;34m)\u001b[0m\u001b[0;34m:\u001b[0m\u001b[0;34m\u001b[0m\u001b[0;34m\u001b[0m\u001b[0m\n\u001b[0;32m--> 427\u001b[0;31m         \u001b[0;32mreturn\u001b[0m \u001b[0mpickle\u001b[0m\u001b[0;34m.\u001b[0m\u001b[0mdumps\u001b[0m\u001b[0;34m(\u001b[0m\u001b[0mobj\u001b[0m\u001b[0;34m,\u001b[0m \u001b[0mpickle_protocol\u001b[0m\u001b[0;34m)\u001b[0m\u001b[0;34m\u001b[0m\u001b[0;34m\u001b[0m\u001b[0m\n\u001b[0m\u001b[1;32m    428\u001b[0m \u001b[0;34m\u001b[0m\u001b[0m\n\u001b[1;32m    429\u001b[0m     \u001b[0;32mdef\u001b[0m \u001b[0mloads\u001b[0m\u001b[0;34m(\u001b[0m\u001b[0mself\u001b[0m\u001b[0;34m,\u001b[0m \u001b[0mobj\u001b[0m\u001b[0;34m,\u001b[0m \u001b[0mencoding\u001b[0m\u001b[0;34m=\u001b[0m\u001b[0;34m\"bytes\"\u001b[0m\u001b[0;34m)\u001b[0m\u001b[0;34m:\u001b[0m\u001b[0;34m\u001b[0m\u001b[0;34m\u001b[0m\u001b[0m\n",
      "\u001b[0;31mKeyboardInterrupt\u001b[0m: "
     ]
    }
   ],
   "source": [
    "pandasDF = df.toPandas()\n",
    "spark.createDataFrame(pandasDF).schema"
   ]
  },
  {
   "cell_type": "code",
   "execution_count": 5,
   "id": "2194f0a3",
   "metadata": {},
   "outputs": [],
   "source": [
    "df = spark.read.option(\"header\",True).schema(schema).csv(\"gs://datalake-311-bronze/boston_2022.csv\")\n",
    "\n"
   ]
  },
  {
   "cell_type": "code",
   "execution_count": 6,
   "id": "865bdea2",
   "metadata": {},
   "outputs": [
    {
     "name": "stdout",
     "output_type": "stream",
     "text": [
      "root\n",
      " |-- case_enquiry_id: string (nullable = true)\n",
      " |-- open_dt: string (nullable = true)\n",
      " |-- target_dt: timestamp (nullable = true)\n",
      " |-- closed_dt: timestamp (nullable = true)\n",
      " |-- ontime: string (nullable = true)\n",
      " |-- case_status: string (nullable = true)\n",
      " |-- closure_reason: string (nullable = true)\n",
      " |-- case_title: string (nullable = true)\n",
      " |-- subject: string (nullable = true)\n",
      " |-- reason: string (nullable = true)\n",
      " |-- type: string (nullable = true)\n",
      " |-- queue: string (nullable = true)\n",
      " |-- department: string (nullable = true)\n",
      " |-- submittedphoto: string (nullable = true)\n",
      " |-- closedphoto: string (nullable = true)\n",
      " |-- location: string (nullable = true)\n",
      " |-- fire_district: string (nullable = true)\n",
      " |-- pwd_district: string (nullable = true)\n",
      " |-- city_council_district: string (nullable = true)\n",
      " |-- police_district: string (nullable = true)\n",
      " |-- neighborhood: string (nullable = true)\n",
      " |-- neighborhood_services_district: string (nullable = true)\n",
      " |-- ward: string (nullable = true)\n",
      " |-- precinct: string (nullable = true)\n",
      " |-- location_street_name: string (nullable = true)\n",
      " |-- location_zipcode: string (nullable = true)\n",
      " |-- latitude: string (nullable = true)\n",
      " |-- longitude: string (nullable = true)\n",
      " |-- source: string (nullable = true)\n",
      "\n"
     ]
    }
   ],
   "source": [
    "\n",
    "df.dtypes\n",
    "df.printSchema()"
   ]
  },
  {
   "cell_type": "code",
   "execution_count": null,
   "id": "27d1b6ba",
   "metadata": {},
   "outputs": [],
   "source": [
    "df = df.repartition(10)"
   ]
  },
  {
   "cell_type": "code",
   "execution_count": null,
   "id": "0b507bcf",
   "metadata": {},
   "outputs": [],
   "source": [
    "df.write.format('bigquery') \\\n",
    "    .option('project','dataengineering-bizzy') \\\n",
    "    .option('table','boston_service_request.boston_311_raw') \\\n",
    "    .option(\"temporaryGcsBucket\",\"datalake-311-silver\") \\\n",
    "    .mode(\"overwrite\") \\\n",
    "    .save()"
   ]
  },
  {
   "cell_type": "code",
   "execution_count": null,
   "id": "93a5864a",
   "metadata": {},
   "outputs": [],
   "source": [
    "df.write.format(\"parquet\").option(\"path\", \"gs://datalake-311-silver/archive/\").save()"
   ]
  },
  {
   "cell_type": "code",
   "execution_count": 7,
   "id": "7a8242fa",
   "metadata": {},
   "outputs": [
    {
     "name": "stderr",
     "output_type": "stream",
     "text": [
      "                                                                                \r"
     ]
    },
    {
     "data": {
      "text/plain": [
       "273951"
      ]
     },
     "execution_count": 7,
     "metadata": {},
     "output_type": "execute_result"
    }
   ],
   "source": [
    "df .count()"
   ]
  },
  {
   "cell_type": "code",
   "execution_count": 8,
   "id": "957ffe8d",
   "metadata": {},
   "outputs": [
    {
     "name": "stderr",
     "output_type": "stream",
     "text": [
      "\r",
      "[Stage 3:>                                                          (0 + 1) / 1]\r"
     ]
    },
    {
     "name": "stdout",
     "output_type": "stream",
     "text": [
      "+-------+--------------------+\n",
      "|summary|     case_enquiry_id|\n",
      "+-------+--------------------+\n",
      "|  count|              273951|\n",
      "|   mean|1.010038463895628...|\n",
      "| stddev|  153628.05383988871|\n",
      "|    min|        101003578872|\n",
      "|    max|        101004113296|\n",
      "+-------+--------------------+\n",
      "\n"
     ]
    },
    {
     "name": "stderr",
     "output_type": "stream",
     "text": [
      "\r",
      "                                                                                \r"
     ]
    }
   ],
   "source": [
    "df.describe([\"case_enquiry_id\"]).show() #max returning a value and not ? means no nulls in this column"
   ]
  },
  {
   "cell_type": "code",
   "execution_count": 106,
   "id": "4f7bf1de",
   "metadata": {
    "collapsed": true
   },
   "outputs": [
    {
     "name": "stderr",
     "output_type": "stream",
     "text": [
      "                                                                                \r"
     ]
    },
    {
     "name": "stdout",
     "output_type": "stream",
     "text": [
      "+-------+--------------------+\n",
      "|summary|     case_enquiry_id|\n",
      "+-------+--------------------+\n",
      "|  count|              273951|\n",
      "|   mean|1.010038463895628...|\n",
      "| stddev|  153628.05383988871|\n",
      "|    min|        101003578872|\n",
      "|    max|        101004113296|\n",
      "+-------+--------------------+\n",
      "\n"
     ]
    },
    {
     "name": "stderr",
     "output_type": "stream",
     "text": [
      "                                                                                \r"
     ]
    },
    {
     "name": "stdout",
     "output_type": "stream",
     "text": [
      "+-------+-------------------+\n",
      "|summary|            open_dt|\n",
      "+-------+-------------------+\n",
      "|  count|             273951|\n",
      "|   mean|               null|\n",
      "| stddev|               null|\n",
      "|    min|2021-01-01 00:06:37|\n",
      "|    max|2021-12-31 23:44:48|\n",
      "+-------+-------------------+\n",
      "\n",
      "+-------+\n",
      "|summary|\n",
      "+-------+\n",
      "|  count|\n",
      "|   mean|\n",
      "| stddev|\n",
      "|    min|\n",
      "|    max|\n",
      "+-------+\n",
      "\n",
      "+-------+\n",
      "|summary|\n",
      "+-------+\n",
      "|  count|\n",
      "|   mean|\n",
      "| stddev|\n",
      "|    min|\n",
      "|    max|\n",
      "+-------+\n",
      "\n"
     ]
    },
    {
     "name": "stderr",
     "output_type": "stream",
     "text": [
      "                                                                                \r"
     ]
    },
    {
     "name": "stdout",
     "output_type": "stream",
     "text": [
      "+-------+-------+\n",
      "|summary| ontime|\n",
      "+-------+-------+\n",
      "|  count| 273951|\n",
      "|   mean|   null|\n",
      "| stddev|   null|\n",
      "|    min| ONTIME|\n",
      "|    max|OVERDUE|\n",
      "+-------+-------+\n",
      "\n"
     ]
    },
    {
     "name": "stderr",
     "output_type": "stream",
     "text": [
      "                                                                                \r"
     ]
    },
    {
     "name": "stdout",
     "output_type": "stream",
     "text": [
      "+-------+-----------+\n",
      "|summary|case_status|\n",
      "+-------+-----------+\n",
      "|  count|     273951|\n",
      "|   mean|       null|\n",
      "| stddev|       null|\n",
      "|    min|     Closed|\n",
      "|    max|       Open|\n",
      "+-------+-----------+\n",
      "\n"
     ]
    },
    {
     "name": "stderr",
     "output_type": "stream",
     "text": [
      "                                                                                \r"
     ]
    },
    {
     "name": "stdout",
     "output_type": "stream",
     "text": [
      "+-------+--------------------+\n",
      "|summary|      closure_reason|\n",
      "+-------+--------------------+\n",
      "|  count|              273951|\n",
      "|   mean|                null|\n",
      "| stddev|                null|\n",
      "|    min|                    |\n",
      "|    max|Case Closed. Clos...|\n",
      "+-------+--------------------+\n",
      "\n"
     ]
    },
    {
     "name": "stderr",
     "output_type": "stream",
     "text": [
      "                                                                                \r"
     ]
    },
    {
     "name": "stdout",
     "output_type": "stream",
     "text": [
      "+-------+--------------------+\n",
      "|summary|          case_title|\n",
      "+-------+--------------------+\n",
      "|  count|              273945|\n",
      "|   mean|                null|\n",
      "| stddev|                null|\n",
      "|    min| Maintenance Comp...|\n",
      "|    max|              update|\n",
      "+-------+--------------------+\n",
      "\n"
     ]
    },
    {
     "name": "stderr",
     "output_type": "stream",
     "text": [
      "                                                                                \r"
     ]
    },
    {
     "name": "stdout",
     "output_type": "stream",
     "text": [
      "+-------+--------------------+\n",
      "|summary|             subject|\n",
      "+-------+--------------------+\n",
      "|  count|              273951|\n",
      "|   mean|                null|\n",
      "| stddev|                null|\n",
      "|    min|      Animal Control|\n",
      "|    max|Transportation - ...|\n",
      "+-------+--------------------+\n",
      "\n"
     ]
    },
    {
     "name": "stderr",
     "output_type": "stream",
     "text": [
      "                                                                                \r"
     ]
    },
    {
     "name": "stdout",
     "output_type": "stream",
     "text": [
      "+-------+--------------------+\n",
      "|summary|              reason|\n",
      "+-------+--------------------+\n",
      "|  count|              273951|\n",
      "|   mean|                null|\n",
      "| stddev|                null|\n",
      "|    min|   Abandoned Bicycle|\n",
      "|    max|Weights and Measures|\n",
      "+-------+--------------------+\n",
      "\n"
     ]
    },
    {
     "name": "stderr",
     "output_type": "stream",
     "text": [
      "                                                                                \r"
     ]
    },
    {
     "name": "stdout",
     "output_type": "stream",
     "text": [
      "+-------+-----------------+\n",
      "|summary|             type|\n",
      "+-------+-----------------+\n",
      "|  count|           273951|\n",
      "|   mean|             null|\n",
      "| stddev|             null|\n",
      "|    min|Abandoned Bicycle|\n",
      "|    max|           Zoning|\n",
      "+-------+-----------------+\n",
      "\n"
     ]
    },
    {
     "name": "stderr",
     "output_type": "stream",
     "text": [
      "                                                                                \r"
     ]
    },
    {
     "name": "stdout",
     "output_type": "stream",
     "text": [
      "+-------+--------------------+\n",
      "|summary|               queue|\n",
      "+-------+--------------------+\n",
      "|  count|              273951|\n",
      "|   mean|                null|\n",
      "| stddev|                null|\n",
      "|    min|\"INFO03_Mobile \"\"...|\n",
      "|    max|PWDx_Work Hours-L...|\n",
      "+-------+--------------------+\n",
      "\n"
     ]
    },
    {
     "name": "stderr",
     "output_type": "stream",
     "text": [
      "                                                                                \r"
     ]
    },
    {
     "name": "stdout",
     "output_type": "stream",
     "text": [
      "+-------+----------+\n",
      "|summary|department|\n",
      "+-------+----------+\n",
      "|  count|    273951|\n",
      "|   mean|      null|\n",
      "| stddev|      null|\n",
      "|    min|      ANML|\n",
      "|    max|      PWDx|\n",
      "+-------+----------+\n",
      "\n"
     ]
    },
    {
     "name": "stderr",
     "output_type": "stream",
     "text": [
      "                                                                                \r"
     ]
    },
    {
     "name": "stdout",
     "output_type": "stream",
     "text": [
      "+-------+--------------------+\n",
      "|summary|      submittedphoto|\n",
      "+-------+--------------------+\n",
      "|  count|               95961|\n",
      "|   mean|                null|\n",
      "| stddev|                null|\n",
      "|    min| https://citywork...|\n",
      "|    max|https://311.bosto...|\n",
      "+-------+--------------------+\n",
      "\n"
     ]
    },
    {
     "name": "stderr",
     "output_type": "stream",
     "text": [
      "                                                                                \r"
     ]
    },
    {
     "name": "stdout",
     "output_type": "stream",
     "text": [
      "+-------+--------------------+\n",
      "|summary|         closedphoto|\n",
      "+-------+--------------------+\n",
      "|  count|                 346|\n",
      "|   mean|                null|\n",
      "| stddev|                null|\n",
      "|    min|https://cityworke...|\n",
      "|    max|https://cityworke...|\n",
      "+-------+--------------------+\n",
      "\n"
     ]
    },
    {
     "name": "stderr",
     "output_type": "stream",
     "text": [
      "                                                                                \r"
     ]
    },
    {
     "name": "stdout",
     "output_type": "stream",
     "text": [
      "+-------+--------------------+\n",
      "|summary|            location|\n",
      "+-------+--------------------+\n",
      "|  count|              273951|\n",
      "|   mean|                null|\n",
      "| stddev|                null|\n",
      "|    min|                    |\n",
      "|    max|Pier 4 Eighth St ...|\n",
      "+-------+--------------------+\n",
      "\n"
     ]
    },
    {
     "name": "stderr",
     "output_type": "stream",
     "text": [
      "                                                                                \r"
     ]
    },
    {
     "name": "stdout",
     "output_type": "stream",
     "text": [
      "+-------+------------------+\n",
      "|summary|     fire_district|\n",
      "+-------+------------------+\n",
      "|  count|            273495|\n",
      "|   mean| 6.599497264527576|\n",
      "| stddev|3.1900565120980455|\n",
      "|    min|                  |\n",
      "|    max|                 9|\n",
      "+-------+------------------+\n",
      "\n"
     ]
    },
    {
     "name": "stderr",
     "output_type": "stream",
     "text": [
      "                                                                                \r"
     ]
    },
    {
     "name": "stdout",
     "output_type": "stream",
     "text": [
      "+-------+------------------+\n",
      "|summary|      pwd_district|\n",
      "+-------+------------------+\n",
      "|  count|            273829|\n",
      "|   mean| 5.345314261974004|\n",
      "| stddev|2.1961768517079046|\n",
      "|    min|                  |\n",
      "|    max|                 9|\n",
      "+-------+------------------+\n",
      "\n"
     ]
    },
    {
     "name": "stderr",
     "output_type": "stream",
     "text": [
      "                                                                                \r"
     ]
    },
    {
     "name": "stdout",
     "output_type": "stream",
     "text": [
      "+-------+---------------------+\n",
      "|summary|city_council_district|\n",
      "+-------+---------------------+\n",
      "|  count|               273928|\n",
      "|   mean|    4.364532692009767|\n",
      "| stddev|    2.648740329995275|\n",
      "|    min|                     |\n",
      "|    max|                    9|\n",
      "+-------+---------------------+\n",
      "\n"
     ]
    },
    {
     "name": "stderr",
     "output_type": "stream",
     "text": [
      "                                                                                \r"
     ]
    },
    {
     "name": "stdout",
     "output_type": "stream",
     "text": [
      "+-------+---------------+\n",
      "|summary|police_district|\n",
      "+-------+---------------+\n",
      "|  count|         273837|\n",
      "|   mean|           null|\n",
      "| stddev|           null|\n",
      "|    min|               |\n",
      "|    max|             E5|\n",
      "+-------+---------------+\n",
      "\n"
     ]
    },
    {
     "name": "stderr",
     "output_type": "stream",
     "text": [
      "                                                                                \r"
     ]
    },
    {
     "name": "stdout",
     "output_type": "stream",
     "text": [
      "+-------+------------+\n",
      "|summary|neighborhood|\n",
      "+-------+------------+\n",
      "|  count|      273708|\n",
      "|   mean|        null|\n",
      "| stddev|        null|\n",
      "|    min|            |\n",
      "|    max|West Roxbury|\n",
      "+-------+------------+\n",
      "\n"
     ]
    },
    {
     "name": "stderr",
     "output_type": "stream",
     "text": [
      "                                                                                \r"
     ]
    },
    {
     "name": "stdout",
     "output_type": "stream",
     "text": [
      "+-------+------------------------------+\n",
      "|summary|neighborhood_services_district|\n",
      "+-------+------------------------------+\n",
      "|  count|                        273929|\n",
      "|   mean|             8.367367865824194|\n",
      "| stddev|             4.341541225706754|\n",
      "|    min|                              |\n",
      "|    max|                             9|\n",
      "+-------+------------------------------+\n",
      "\n"
     ]
    },
    {
     "name": "stderr",
     "output_type": "stream",
     "text": [
      "                                                                                \r"
     ]
    },
    {
     "name": "stdout",
     "output_type": "stream",
     "text": [
      "+-------+------------------+\n",
      "|summary|              ward|\n",
      "+-------+------------------+\n",
      "|  count|            273951|\n",
      "|   mean| 9.195081727657975|\n",
      "| stddev|6.4867582579227445|\n",
      "|    min|                  |\n",
      "|    max|            Ward 9|\n",
      "+-------+------------------+\n",
      "\n"
     ]
    },
    {
     "name": "stderr",
     "output_type": "stream",
     "text": [
      "                                                                                \r"
     ]
    },
    {
     "name": "stdout",
     "output_type": "stream",
     "text": [
      "+-------+------------------+\n",
      "|summary|          precinct|\n",
      "+-------+------------------+\n",
      "|  count|            273785|\n",
      "|   mean|1053.7147611459068|\n",
      "| stddev| 673.7884920405154|\n",
      "|    min|                  |\n",
      "|    max|              2213|\n",
      "+-------+------------------+\n",
      "\n"
     ]
    },
    {
     "name": "stderr",
     "output_type": "stream",
     "text": [
      "                                                                                \r"
     ]
    },
    {
     "name": "stdout",
     "output_type": "stream",
     "text": [
      "+-------+--------------------+\n",
      "|summary|location_street_name|\n",
      "+-------+--------------------+\n",
      "|  count|              271129|\n",
      "|   mean|                null|\n",
      "| stddev|                null|\n",
      "|    min|  0 Saint Paul's Ave|\n",
      "|    max|    Pier 4 Eighth St|\n",
      "+-------+--------------------+\n",
      "\n"
     ]
    },
    {
     "name": "stderr",
     "output_type": "stream",
     "text": [
      "                                                                                \r"
     ]
    },
    {
     "name": "stdout",
     "output_type": "stream",
     "text": [
      "+-------+-----------------+\n",
      "|summary| location_zipcode|\n",
      "+-------+-----------------+\n",
      "|  count|           212881|\n",
      "|   mean| 2126.85175285723|\n",
      "| stddev|17.31285726352793|\n",
      "|    min|            02108|\n",
      "|    max|            02467|\n",
      "+-------+-----------------+\n",
      "\n"
     ]
    },
    {
     "name": "stderr",
     "output_type": "stream",
     "text": [
      "                                                                                \r"
     ]
    },
    {
     "name": "stdout",
     "output_type": "stream",
     "text": [
      "+-------+-------------------+\n",
      "|summary|           latitude|\n",
      "+-------+-------------------+\n",
      "|  count|             273951|\n",
      "|   mean|  42.33437729125488|\n",
      "| stddev|0.03247340544116824|\n",
      "|    min|            42.2302|\n",
      "|    max|            42.3952|\n",
      "+-------+-------------------+\n",
      "\n"
     ]
    },
    {
     "name": "stderr",
     "output_type": "stream",
     "text": [
      "                                                                                \r"
     ]
    },
    {
     "name": "stdout",
     "output_type": "stream",
     "text": [
      "+-------+-------------------+\n",
      "|summary|          longitude|\n",
      "+-------+-------------------+\n",
      "|  count|             273951|\n",
      "|   mean|   -71.076193295564|\n",
      "| stddev|0.03287928803900102|\n",
      "|    min|           -70.9949|\n",
      "|    max|           -71.1818|\n",
      "+-------+-------------------+\n",
      "\n"
     ]
    },
    {
     "name": "stderr",
     "output_type": "stream",
     "text": [
      "\r",
      "[Stage 824:>                                                        (0 + 1) / 1]\r"
     ]
    },
    {
     "name": "stdout",
     "output_type": "stream",
     "text": [
      "+-------+--------------------+\n",
      "|summary|              source|\n",
      "+-------+--------------------+\n",
      "|  count|              273951|\n",
      "|   mean|                null|\n",
      "| stddev|                null|\n",
      "|    min|Citizens Connect App|\n",
      "|    max|        Self Service|\n",
      "+-------+--------------------+\n",
      "\n"
     ]
    },
    {
     "name": "stderr",
     "output_type": "stream",
     "text": [
      "\r",
      "                                                                                \r"
     ]
    }
   ],
   "source": [
    "for col in df.columns:\n",
    "    df.describe([col]).show()"
   ]
  },
  {
   "cell_type": "code",
   "execution_count": 107,
   "id": "2c3a86bd",
   "metadata": {
    "collapsed": true
   },
   "outputs": [
    {
     "data": {
      "text/plain": [
       "['case_enquiry_id',\n",
       " 'open_dt',\n",
       " 'target_dt',\n",
       " 'closed_dt',\n",
       " 'ontime',\n",
       " 'case_status',\n",
       " 'closure_reason',\n",
       " 'case_title',\n",
       " 'subject',\n",
       " 'reason',\n",
       " 'type',\n",
       " 'queue',\n",
       " 'department',\n",
       " 'submittedphoto',\n",
       " 'closedphoto',\n",
       " 'location',\n",
       " 'fire_district',\n",
       " 'pwd_district',\n",
       " 'city_council_district',\n",
       " 'police_district',\n",
       " 'neighborhood',\n",
       " 'neighborhood_services_district',\n",
       " 'ward',\n",
       " 'precinct',\n",
       " 'location_street_name',\n",
       " 'location_zipcode',\n",
       " 'latitude',\n",
       " 'longitude',\n",
       " 'source']"
      ]
     },
     "execution_count": 107,
     "metadata": {},
     "output_type": "execute_result"
    }
   ],
   "source": [
    "df.columns"
   ]
  },
  {
   "cell_type": "code",
   "execution_count": 9,
   "id": "886293a5",
   "metadata": {},
   "outputs": [],
   "source": [
    "df =df.drop(\"latitude\", \"longitude\", \"submittedphoto\",\"police_district\", \"location_zipcode\", \"ward\", \"closedphoto\",\"police_district\", \"neighborhood_services_district\",\"queue\" \"fire_district\",\"city_council_district\",\"precinct\", \"location_street_name\", \"pwd_district\")"
   ]
  },
  {
   "cell_type": "code",
   "execution_count": 10,
   "id": "029bf55a",
   "metadata": {},
   "outputs": [
    {
     "name": "stdout",
     "output_type": "stream",
     "text": [
      "root\n",
      " |-- case_enquiry_id: string (nullable = true)\n",
      " |-- open_dt: string (nullable = true)\n",
      " |-- target_dt: timestamp (nullable = true)\n",
      " |-- closed_dt: timestamp (nullable = true)\n",
      " |-- ontime: string (nullable = true)\n",
      " |-- case_status: string (nullable = true)\n",
      " |-- closure_reason: string (nullable = true)\n",
      " |-- case_title: string (nullable = true)\n",
      " |-- subject: string (nullable = true)\n",
      " |-- reason: string (nullable = true)\n",
      " |-- type: string (nullable = true)\n",
      " |-- queue: string (nullable = true)\n",
      " |-- department: string (nullable = true)\n",
      " |-- location: string (nullable = true)\n",
      " |-- fire_district: string (nullable = true)\n",
      " |-- neighborhood: string (nullable = true)\n",
      " |-- source: string (nullable = true)\n",
      "\n"
     ]
    }
   ],
   "source": [
    "df.printSchema()"
   ]
  },
  {
   "cell_type": "code",
   "execution_count": 12,
   "id": "1c15c42b",
   "metadata": {
    "collapsed": true
   },
   "outputs": [
    {
     "name": "stderr",
     "output_type": "stream",
     "text": [
      "                                                                                \r"
     ]
    },
    {
     "name": "stdout",
     "output_type": "stream",
     "text": [
      "case_enquiry_id \t with '?' values:  0\n"
     ]
    },
    {
     "name": "stderr",
     "output_type": "stream",
     "text": [
      "                                                                                \r"
     ]
    },
    {
     "name": "stdout",
     "output_type": "stream",
     "text": [
      "open_dt \t with '?' values:  0\n",
      "target_dt \t with '?' values:  0\n",
      "closed_dt \t with '?' values:  0\n"
     ]
    },
    {
     "name": "stderr",
     "output_type": "stream",
     "text": [
      "                                                                                \r"
     ]
    },
    {
     "name": "stdout",
     "output_type": "stream",
     "text": [
      "ontime \t with '?' values:  0\n"
     ]
    },
    {
     "name": "stderr",
     "output_type": "stream",
     "text": [
      "                                                                                \r"
     ]
    },
    {
     "name": "stdout",
     "output_type": "stream",
     "text": [
      "case_status \t with '?' values:  0\n"
     ]
    },
    {
     "name": "stderr",
     "output_type": "stream",
     "text": [
      "                                                                                \r"
     ]
    },
    {
     "name": "stdout",
     "output_type": "stream",
     "text": [
      "closure_reason \t with '?' values:  0\n"
     ]
    },
    {
     "name": "stderr",
     "output_type": "stream",
     "text": [
      "                                                                                \r"
     ]
    },
    {
     "name": "stdout",
     "output_type": "stream",
     "text": [
      "case_title \t with '?' values:  1\n"
     ]
    },
    {
     "name": "stderr",
     "output_type": "stream",
     "text": [
      "                                                                                \r"
     ]
    },
    {
     "name": "stdout",
     "output_type": "stream",
     "text": [
      "subject \t with '?' values:  0\n"
     ]
    },
    {
     "name": "stderr",
     "output_type": "stream",
     "text": [
      "                                                                                \r"
     ]
    },
    {
     "name": "stdout",
     "output_type": "stream",
     "text": [
      "reason \t with '?' values:  0\n"
     ]
    },
    {
     "name": "stderr",
     "output_type": "stream",
     "text": [
      "                                                                                \r"
     ]
    },
    {
     "name": "stdout",
     "output_type": "stream",
     "text": [
      "type \t with '?' values:  0\n"
     ]
    },
    {
     "name": "stderr",
     "output_type": "stream",
     "text": [
      "                                                                                \r"
     ]
    },
    {
     "name": "stdout",
     "output_type": "stream",
     "text": [
      "queue \t with '?' values:  0\n"
     ]
    },
    {
     "name": "stderr",
     "output_type": "stream",
     "text": [
      "                                                                                \r"
     ]
    },
    {
     "name": "stdout",
     "output_type": "stream",
     "text": [
      "department \t with '?' values:  0\n"
     ]
    },
    {
     "name": "stderr",
     "output_type": "stream",
     "text": [
      "                                                                                \r"
     ]
    },
    {
     "name": "stdout",
     "output_type": "stream",
     "text": [
      "location \t with '?' values:  0\n"
     ]
    },
    {
     "name": "stderr",
     "output_type": "stream",
     "text": [
      "                                                                                \r"
     ]
    },
    {
     "name": "stdout",
     "output_type": "stream",
     "text": [
      "fire_district \t with '?' values:  0\n"
     ]
    },
    {
     "name": "stderr",
     "output_type": "stream",
     "text": [
      "                                                                                \r"
     ]
    },
    {
     "name": "stdout",
     "output_type": "stream",
     "text": [
      "neighborhood \t with '?' values:  0\n"
     ]
    },
    {
     "name": "stderr",
     "output_type": "stream",
     "text": [
      "\r",
      "[Stage 52:>                                                         (0 + 1) / 1]\r"
     ]
    },
    {
     "name": "stdout",
     "output_type": "stream",
     "text": [
      "source \t with '?' values:  0\n"
     ]
    },
    {
     "name": "stderr",
     "output_type": "stream",
     "text": [
      "\r",
      "                                                                                \r"
     ]
    }
   ],
   "source": [
    "for col in df.columns:\n",
    "    print(col, \"\\t\", \"with '?' values: \", df.filter(df[col]==\"?\").count())"
   ]
  },
  {
   "cell_type": "code",
   "execution_count": 11,
   "id": "2497d579",
   "metadata": {},
   "outputs": [],
   "source": [
    "df2 = df.replace('?',None)"
   ]
  },
  {
   "cell_type": "code",
   "execution_count": null,
   "id": "229d0919",
   "metadata": {},
   "outputs": [],
   "source": [
    "for col in df2.columns:\n",
    "    print(col, \"\\t\", \"with '?' values: \", df2.filter(df2[col]==\"?\").count())"
   ]
  },
  {
   "cell_type": "code",
   "execution_count": 12,
   "id": "81a2ec95",
   "metadata": {},
   "outputs": [],
   "source": [
    "df_time = df2.withColumn('resolution_time_sec',round(unix_timestamp(\"closed_dt\")) - round(unix_timestamp('open_dt')))\\\n",
    "             .withColumn('resolution_time_mins',round(unix_timestamp(\"closed_dt\")/60) - round(unix_timestamp('open_dt')/60))"
   ]
  },
  {
   "cell_type": "code",
   "execution_count": 117,
   "id": "7591a956",
   "metadata": {},
   "outputs": [
    {
     "name": "stderr",
     "output_type": "stream",
     "text": [
      "                                                                                \r"
     ]
    }
   ],
   "source": [
    " df_time.write.format('bigquery') \\\n",
    "    .option('project','dataengineering-bizzy') \\\n",
    "    .option('table','boston_service_request.boston_service_summary') \\\n",
    "    .option(\"temporaryGcsBucket\",\"datalake-311-silver\") \\\n",
    "    .mode(\"overwrite\") \\\n",
    "    .save()"
   ]
  },
  {
   "cell_type": "markdown",
   "id": "6a05b2a0",
   "metadata": {},
   "source": [
    "1. Source of reporting\n",
    "2. longest open issue\n",
    "3. percent of ticket resolved ontime\n",
    "4. grouping by type"
   ]
  },
  {
   "cell_type": "code",
   "execution_count": 13,
   "id": "3c5d179d",
   "metadata": {},
   "outputs": [
    {
     "name": "stderr",
     "output_type": "stream",
     "text": [
      "\r",
      "[Stage 6:>                                                          (0 + 1) / 1]\r"
     ]
    },
    {
     "name": "stdout",
     "output_type": "stream",
     "text": [
      "+---------------+-------------------+-------------------+-------------------+------+-----------+--------------------+--------------------+--------------------+--------------------+--------------------+--------------------+----------+--------------------+-------------+--------------------+--------------------+-------------------+--------------------+\n",
      "|case_enquiry_id|            open_dt|          target_dt|          closed_dt|ontime|case_status|      closure_reason|          case_title|             subject|              reason|                type|               queue|department|            location|fire_district|        neighborhood|              source|resolution_time_sec|resolution_time_mins|\n",
      "+---------------+-------------------+-------------------+-------------------+------+-----------+--------------------+--------------------+--------------------+--------------------+--------------------+--------------------+----------+--------------------+-------------+--------------------+--------------------+-------------------+--------------------+\n",
      "|   101003578872|2021-01-01 00:06:37|2021-01-06 08:30:00|2021-01-01 05:36:42|ONTIME|     Closed|Case Closed. Clos...|Improper Storage ...|Public Works Depa...|    Code Enforcement|Improper Storage ...|PWDx_Code Enforce...|      PWDx|797 Columbia Rd  ...|            7|          Dorchester|Citizens Connect App|              19805|               330.0|\n",
      "|   101003578875|2021-01-01 00:15:47|2021-01-05 08:30:00|2021-01-02 12:49:26|ONTIME|     Closed|Case Closed. Clos...| Parking Enforcement|Transportation - ...|Enforcement & Aba...| Parking Enforcement|BTDT_Parking Enfo...|      BTDT|50 Newton St  Bri...|           11|  Allston / Brighton|Citizens Connect App|             131619|              2193.0|\n",
      "|   101003578879|2021-01-01 00:26:46|               null|2021-01-04 13:56:41|ONTIME|     Closed|Case Closed. Clos...|        Notification|Mayor's 24 Hour H...|        Notification|        Notification|INFO09_Current Ev...|      INFO|693 Dudley St  Do...|            7|          Dorchester|    Constituent Call|             307795|              5130.0|\n",
      "|   101003578880|2021-01-01 00:27:00|               null|2021-03-18 03:02:40|ONTIME|     Closed|Case Closed Case ...|                Fire|Mayor's 24 Hour H...|        Notification|        Notification|INFO09_Current Ev...|      INFO|INTERSECTION of N...|            7|          Dorchester|    Constituent Call|            6572140|            109536.0|\n",
      "|   101003578881|2021-01-01 00:36:34|2021-01-07 08:30:00|2021-01-01 05:43:25|ONTIME|     Closed|Case Closed. Clos...|Poor Conditions o...|Public Works Depa...|    Code Enforcement|Poor Conditions o...|PWDx_Code Enforce...|      PWDx|83-93 Stoughton S...|            7|          Dorchester|Citizens Connect App|              18411|               306.0|\n",
      "|   101003578883|2021-01-01 00:38:15|2021-01-07 08:30:00|2021-01-01 05:50:34|ONTIME|     Closed|Case Closed. Clos...|Poor Conditions o...|Public Works Depa...|    Code Enforcement|Poor Conditions o...|PWDx_Code Enforce...|      PWDx|14 Windermere Rd ...|            7|          Dorchester|Citizens Connect App|              18739|               313.0|\n",
      "|   101003578887|2021-01-01 01:44:00|2021-01-07 08:30:00|2021-01-04 08:48:56|ONTIME|     Closed|Case Closed. Clos...|Work Hours-Loud N...|Public Works Depa...| Highway Maintenance|Work Hours-Loud N...|PWDx_Work Hours-L...|      PWDx|INTERSECTION of S...|           11|  Allston / Brighton|    Constituent Call|             284696|              4745.0|\n",
      "|   101003578889|2021-01-01 01:46:00|2021-01-05 08:30:00|2021-01-02 12:53:10|ONTIME|     Closed|Case Closed. Clos...| Parking Enforcement|Transportation - ...|Enforcement & Aba...| Parking Enforcement|BTDT_Parking Enfo...|      BTDT|INTERSECTION of E...|            9|             Roxbury|    Constituent Call|             126430|              2107.0|\n",
      "|   101003578890|2021-01-01 02:49:00|2021-01-05 08:30:00|2021-01-01 03:17:49|ONTIME|     Closed|Case Closed. Clos...|Requests for Stre...|Public Works Depa...|     Street Cleaning|Requests for Stre...|PWDx_District 10A...|      PWDx|INTERSECTION of W...|            9|        Mission Hill|    Constituent Call|               1729|                29.0|\n",
      "|   101003578892|2021-01-01 03:06:00|               null|               null|ONTIME|       Open|                    |Loud Parties/Musi...|Boston Police Dep...|   Noise Disturbance|Loud Parties/Musi...|INFO01_GenericeFo...|      INFO|INTERSECTION of E...|            9|             Roxbury|    Constituent Call|               null|                null|\n",
      "|   101003578895|2021-01-01 03:35:45|2021-01-05 08:30:00|2021-01-02 12:56:02|ONTIME|     Closed|Case Closed. Clos...| Parking Enforcement|Transportation - ...|Enforcement & Aba...| Parking Enforcement|BTDT_Parking Enfo...|      BTDT|58 Allston St  Al...|           11|  Allston / Brighton|Citizens Connect App|             120017|              2000.0|\n",
      "|   101003578899|2021-01-01 04:17:18|2021-01-05 08:30:00|2021-01-02 12:54:07|ONTIME|     Closed|Case Closed. Clos...| Parking Enforcement|Transportation - ...|Enforcement & Aba...| Parking Enforcement|BTDT_Parking Enfo...|      BTDT|27 Eutaw St  East...|            1|         East Boston|Citizens Connect App|             117409|              1957.0|\n",
      "|   101003578900|2021-01-01 04:58:20|2021-01-05 08:30:00|2021-01-02 12:56:14|ONTIME|     Closed|Case Closed. Clos...| Parking Enforcement|Transportation - ...|Enforcement & Aba...| Parking Enforcement|BTDT_Parking Enfo...|      BTDT|27 W Tremlett St ...|            8|          Dorchester|Citizens Connect App|             115074|              1918.0|\n",
      "|   101003578903|2021-01-01 05:35:24|2021-01-05 08:30:00|2021-01-01 05:38:05|ONTIME|     Closed|Case Closed. Clos...|Street Light Knoc...|Public Works Depa...|       Street Lights|Street Light Knoc...|PWDx_Street Light...|      PWDx|INTERSECTION of R...|           12|           Hyde Park|    Constituent Call|                161|                 3.0|\n",
      "|   101003578905|2021-01-01 05:39:00|               null|2021-01-01 19:50:26|ONTIME|     Closed|Case Closed Case ...|PublicWorks: Comp...|Mayor's 24 Hour H...|Employee & Genera...|General Comments ...|PWDx_General Comm...|      PWDx|23 Dorchester St ...|            6|South Boston / So...|    Constituent Call|              51086|               851.0|\n",
      "|   101003578906|2021-01-01 05:42:00|2021-01-05 08:30:00|2021-01-01 06:18:20|ONTIME|     Closed|Case Closed. Clos...|Requests for Stre...|Public Works Depa...|     Street Cleaning|Requests for Stre...|PWDx_District 10B...|      PWDx|INTERSECTION of H...|            9|             Roxbury|    Constituent Call|               2180|                36.0|\n",
      "|   101003578907|2021-01-01 05:44:00|2021-01-05 08:30:00|2021-01-01 07:12:25|ONTIME|     Closed|Case Closed. Clos...|Requests for Stre...|Public Works Depa...|     Street Cleaning|Requests for Stre...|PWDx_District 07:...|      PWDx|INTERSECTION of L...|            8|    Greater Mattapan|    Constituent Call|               5305|                88.0|\n",
      "|   101003578911|2021-01-01 06:11:40|2021-01-05 08:30:00|2021-01-02 08:11:45|ONTIME|     Closed|Case Closed. Clos...| Parking Enforcement|Transportation - ...|Enforcement & Aba...| Parking Enforcement|BTDT_Parking Enfo...|      BTDT|INTERSECTION of C...|            4|           South End|Citizens Connect App|              93605|              1560.0|\n",
      "|   101003578912|2021-01-01 06:28:00|2021-01-05 08:30:00|2021-01-02 13:02:07|ONTIME|     Closed|Case Closed. Clos...| Parking Enforcement|Transportation - ...|Enforcement & Aba...| Parking Enforcement|BTDT_Parking Enfo...|      BTDT|INTERSECTION of B...|           11|  Allston / Brighton|    Constituent Call|             110047|              1834.0|\n",
      "|   101003578914|2021-01-01 06:56:00|2021-01-05 08:30:00|2021-01-01 12:57:01|ONTIME|     Closed|Case Closed. Clos...|       CE Collection|Public Works Depa...|     Street Cleaning|       CE Collection|PWDx_Missed Trash...|      PWDx|18 Chelsea St  Ea...|            1|         East Boston|     City Worker App|              21661|               361.0|\n",
      "+---------------+-------------------+-------------------+-------------------+------+-----------+--------------------+--------------------+--------------------+--------------------+--------------------+--------------------+----------+--------------------+-------------+--------------------+--------------------+-------------------+--------------------+\n",
      "only showing top 20 rows\n",
      "\n"
     ]
    },
    {
     "name": "stderr",
     "output_type": "stream",
     "text": [
      "\r",
      "                                                                                \r"
     ]
    }
   ],
   "source": [
    "df_time.show()"
   ]
  },
  {
   "cell_type": "code",
   "execution_count": null,
   "id": "f4a03df3",
   "metadata": {},
   "outputs": [],
   "source": []
  },
  {
   "cell_type": "code",
   "execution_count": 14,
   "id": "84cf4990",
   "metadata": {},
   "outputs": [],
   "source": [
    "df2 =df_time.na.fill(value=0,subset=[\"resolution_time_sec\", \"resolution_time_mins\"])"
   ]
  },
  {
   "cell_type": "code",
   "execution_count": 27,
   "id": "80d89884",
   "metadata": {},
   "outputs": [
    {
     "name": "stderr",
     "output_type": "stream",
     "text": [
      "\r",
      "[Stage 16:>                                                         (0 + 1) / 1]\r"
     ]
    },
    {
     "name": "stdout",
     "output_type": "stream",
     "text": [
      "+--------------------+------+\n",
      "|              source| count|\n",
      "+--------------------+------+\n",
      "|        Self Service|  8662|\n",
      "|  Maximo Integration|     1|\n",
      "|  Employee Generated|  7126|\n",
      "|    Constituent Call|100674|\n",
      "|Citizens Connect App|132992|\n",
      "|     City Worker App| 24496|\n",
      "+--------------------+------+\n",
      "\n"
     ]
    },
    {
     "name": "stderr",
     "output_type": "stream",
     "text": [
      "\r",
      "                                                                                \r"
     ]
    }
   ],
   "source": [
    "df2.groupBy(\"source\").count().alias(\"total\").show(10)"
   ]
  },
  {
   "cell_type": "code",
   "execution_count": 28,
   "id": "e8fbdd7f",
   "metadata": {},
   "outputs": [],
   "source": [
    "df2.createOrReplaceTempView(\"service_request\")\n"
   ]
  },
  {
   "cell_type": "markdown",
   "id": "58ee9935",
   "metadata": {},
   "source": [
    "### Most used channel for request"
   ]
  },
  {
   "cell_type": "code",
   "execution_count": 37,
   "id": "f2945b3c",
   "metadata": {},
   "outputs": [
    {
     "name": "stderr",
     "output_type": "stream",
     "text": [
      "\r",
      "[Stage 26:>                                                         (0 + 1) / 1]\r"
     ]
    },
    {
     "name": "stdout",
     "output_type": "stream",
     "text": [
      "+--------------------+------+\n",
      "|source              |Total |\n",
      "+--------------------+------+\n",
      "|Citizens Connect App|132992|\n",
      "|Constituent Call    |100674|\n",
      "|City Worker App     |24496 |\n",
      "|Self Service        |8662  |\n",
      "|Employee Generated  |7126  |\n",
      "|Maximo Integration  |1     |\n",
      "+--------------------+------+\n",
      "\n"
     ]
    },
    {
     "name": "stderr",
     "output_type": "stream",
     "text": [
      "\r",
      "                                                                                \r"
     ]
    }
   ],
   "source": [
    "spark.sql(\"select source, count(source) as Total from service_request group by source order by Total desc\").show(truncate=False)"
   ]
  },
  {
   "cell_type": "code",
   "execution_count": 38,
   "id": "f644f866",
   "metadata": {},
   "outputs": [
    {
     "name": "stderr",
     "output_type": "stream",
     "text": [
      "\r",
      "[Stage 29:>                                                         (0 + 1) / 1]\r"
     ]
    },
    {
     "name": "stdout",
     "output_type": "stream",
     "text": [
      "+-----------------+\n",
      "|AvgResolutionTime|\n",
      "+-----------------+\n",
      "|9744.626535402316|\n",
      "+-----------------+\n",
      "\n"
     ]
    },
    {
     "name": "stderr",
     "output_type": "stream",
     "text": [
      "\r",
      "                                                                                \r"
     ]
    }
   ],
   "source": [
    "spark.sql(\"select avg(resolution_time_mins) as AvgResolutionTime from service_request\").show(truncate=False)"
   ]
  },
  {
   "cell_type": "markdown",
   "id": "121fa198",
   "metadata": {},
   "source": [
    "### Percent of ticket resolved ontime"
   ]
  },
  {
   "cell_type": "code",
   "execution_count": 57,
   "id": "4ca284b2",
   "metadata": {},
   "outputs": [
    {
     "name": "stderr",
     "output_type": "stream",
     "text": [
      "                                                                                \r"
     ]
    },
    {
     "name": "stdout",
     "output_type": "stream",
     "text": [
      "+-------+------+\n",
      "| ontime| count|\n",
      "+-------+------+\n",
      "|OVERDUE| 45366|\n",
      "| ONTIME|228585|\n",
      "+-------+------+\n",
      "\n"
     ]
    },
    {
     "name": "stderr",
     "output_type": "stream",
     "text": [
      "\r",
      "[Stage 116:>                                                        (0 + 1) / 1]\r"
     ]
    },
    {
     "name": "stdout",
     "output_type": "stream",
     "text": [
      "+-------+-------------+-----------+-----------------+\n",
      "|ontime |count(ontime)|total_count|request_percent  |\n",
      "+-------+-------------+-----------+-----------------+\n",
      "|OVERDUE|45366        |273951     |16.55989574777971|\n",
      "|ONTIME |228585       |273951     |83.44010425222029|\n",
      "+-------+-------------+-----------+-----------------+\n",
      "\n"
     ]
    },
    {
     "name": "stderr",
     "output_type": "stream",
     "text": [
      "\r",
      "                                                                                \r"
     ]
    }
   ],
   "source": [
    "df2.groupBy(\"ontime\").count().alias(\"total\").show(10)\n",
    "\n",
    "spark.sql(\"select ontime, count(ontime), \\\n",
    "          SUM(COUNT(ontime)) OVER() AS total_count, \\\n",
    "          count(ontime) *100.0 /sum(count(ontime)) over () as request_percent \\\n",
    "          from service_request group by ontime\").show(truncate=False)"
   ]
  },
  {
   "cell_type": "markdown",
   "id": "769eb59c",
   "metadata": {},
   "source": [
    "### Maximum no of days to resolve a ticket in each category"
   ]
  },
  {
   "cell_type": "code",
   "execution_count": 76,
   "id": "e1cda258",
   "metadata": {},
   "outputs": [
    {
     "name": "stderr",
     "output_type": "stream",
     "text": [
      "\r",
      "[Stage 153:>                                                        (0 + 1) / 1]\r"
     ]
    },
    {
     "name": "stdout",
     "output_type": "stream",
     "text": [
      "+---------------+-------------------+-------------------+----------------------------------+--------------------+--------------------+\n",
      "|case_enquiry_id|open_dt            |closed_dt          |case_title                        |resolution_time_mins|resolution_days     |\n",
      "+---------------+-------------------+-------------------+----------------------------------+--------------------+--------------------+\n",
      "|101003580807   |2021-01-04 11:46:00|2021-09-20 10:17:03|Abandoned Bicycle                 |372811.0            |258.89652777777775  |\n",
      "|101003647496   |2021-02-23 20:37:00|2021-12-07 10:21:18|Abandoned Building                |412664.0            |286.57222222222225  |\n",
      "|101003684008   |2021-03-22 08:38:00|2021-12-07 10:37:23|Abandoned Vehicles                |374579.0            |260.12430555555557  |\n",
      "|101003588382   |2021-01-13 11:58:00|null               |Aircraft Noise Disturbance        |0.0                 |0.0                 |\n",
      "|101003620997   |2021-02-06 12:55:27|2021-02-06 12:55:37|Alert Boston                      |1.0                 |6.944444444444445E-4|\n",
      "|101003971080   |2021-09-22 08:22:00|2021-10-14 15:15:29|Animal Found                      |32093.0             |22.286805555555556  |\n",
      "|101003970459   |2021-09-21 17:23:00|2021-10-14 15:44:03|Animal Generic Request            |33021.0             |22.931250000000002  |\n",
      "|101003966921   |2021-09-19 13:11:00|2021-10-14 15:16:30|Animal Lost                       |36126.0             |25.087500000000002  |\n",
      "|101004009009   |2021-10-14 11:35:55|2021-10-29 10:04:05|Animal Noise Disturbances         |21508.0             |14.93611111111111   |\n",
      "|101003627480   |2021-02-12 15:47:01|2021-03-03 15:21:17|Automotive Noise Disturbance      |27334.0             |18.981944444444444  |\n",
      "|101003641993   |2021-02-18 09:28:00|2021-07-14 11:33:55|General Request                   |210306.0            |146.04583333333332  |\n",
      "|101003781392   |2021-06-04 08:55:00|2022-02-07 17:45:55|BWSC Pothole                      |357711.0            |248.4104166666667   |\n",
      "|101003726220   |2021-04-28 09:11:00|2021-10-28 13:11:52|SCHEDULED Bed Bugs                |263761.0            |183.1673611111111   |\n",
      "|101003680801   |2021-03-18 10:52:00|2021-09-16 15:10:30|Boston Bikes: Bike Racks; Repair  |262339.0            |182.1798611111111   |\n",
      "|101003706272   |2021-04-10 11:19:00|null               |Big Buildings Online Request      |0.0                 |0.0                 |\n",
      "|101003619063   |2021-02-04 13:06:19|null               |Big Buildings Recycling (INTERNAL)|0.0                 |0.0                 |\n",
      "|101003973653   |2021-09-23 16:25:00|2021-09-23 17:48:01|Billing Complaint                 |83.0                |0.057638888888888885|\n",
      "|101004068408   |2021-11-23 14:02:00|2021-11-23 14:07:25|Breathe Easy                      |5.0                 |0.003472222222222222|\n",
      "|101003688931   |2021-03-25 18:51:00|2021-07-27 07:35:04|Bridge Maintenance                |177884.0            |123.53055555555555  |\n",
      "|101003582981   |2021-01-06 17:09:00|2022-02-14 21:43:24|Building Inspection Request       |582034.0            |404.1902777777778   |\n",
      "+---------------+-------------------+-------------------+----------------------------------+--------------------+--------------------+\n",
      "only showing top 20 rows\n",
      "\n"
     ]
    },
    {
     "name": "stderr",
     "output_type": "stream",
     "text": [
      "\r",
      "                                                                                \r"
     ]
    }
   ],
   "source": [
    "spark.sql(\"select case_enquiry_id,open_dt,closed_dt,case_title, resolution_time_mins, (resolution_time_mins/60/24) as resolution_days from \"\\\n",
    "          \"(select * ,row_number() OVER (PARTITION BY type ORDER BY resolution_time_mins DESC) as rn \"\\\n",
    "          \" from service_request) tmp where rn <=1\").show(truncate=False)"
   ]
  },
  {
   "cell_type": "markdown",
   "id": "afc40145",
   "metadata": {},
   "source": [
    "### Most frequent request"
   ]
  },
  {
   "cell_type": "code",
   "execution_count": 81,
   "id": "a8e62981",
   "metadata": {},
   "outputs": [
    {
     "name": "stderr",
     "output_type": "stream",
     "text": [
      "\r",
      "[Stage 162:>                                                        (0 + 1) / 1]\r"
     ]
    },
    {
     "name": "stdout",
     "output_type": "stream",
     "text": [
      "+-----------------------------------+-----+\n",
      "|case_title                         |total|\n",
      "+-----------------------------------+-----+\n",
      "|Parking Enforcement                |57414|\n",
      "|Requests for Street Cleaning       |18570|\n",
      "|Improper Storage of Trash (Barrels)|13587|\n",
      "|Schedule a Bulk Item Pickup        |11841|\n",
      "|CE Collection                      |11801|\n",
      "|Needle Pickup                      |7864 |\n",
      "|Request for Pothole Repair         |7362 |\n",
      "|Poor Conditions of Property        |5972 |\n",
      "|Tree Maintenance Requests          |5637 |\n",
      "|Sign Repair                        |5297 |\n",
      "|Pick up Dead Animal                |5289 |\n",
      "|Abandoned Vehicles                 |5088 |\n",
      "|Schedule Bulk Item Pickup          |5016 |\n",
      "|Graffiti Removal                   |4902 |\n",
      "|Request for Recycling Cart         |4663 |\n",
      "|Sidewalk Repair (Make Safe)        |4586 |\n",
      "|Traffic Signal Inspection          |4146 |\n",
      "|Recycling Cart Return              |3988 |\n",
      "|Rodent Activity                    |3586 |\n",
      "|Animal Generic Request             |3390 |\n",
      "+-----------------------------------+-----+\n",
      "only showing top 20 rows\n",
      "\n"
     ]
    },
    {
     "name": "stderr",
     "output_type": "stream",
     "text": [
      "\r",
      "                                                                                \r"
     ]
    }
   ],
   "source": [
    "spark.sql(\"select case_title, count(case_title) as total from service_request group by case_title order by total desc\").show(truncate=False)"
   ]
  },
  {
   "cell_type": "code",
   "execution_count": null,
   "id": "4f3013e8",
   "metadata": {},
   "outputs": [],
   "source": []
  },
  {
   "cell_type": "code",
   "execution_count": null,
   "id": "89ccd39a",
   "metadata": {},
   "outputs": [],
   "source": []
  }
 ],
 "metadata": {
  "kernelspec": {
   "display_name": "Python 3 (ipykernel)",
   "language": "python",
   "name": "python3"
  },
  "language_info": {
   "codemirror_mode": {
    "name": "ipython",
    "version": 3
   },
   "file_extension": ".py",
   "mimetype": "text/x-python",
   "name": "python",
   "nbconvert_exporter": "python",
   "pygments_lexer": "ipython3",
   "version": "3.9.7"
  }
 },
 "nbformat": 4,
 "nbformat_minor": 5
}
