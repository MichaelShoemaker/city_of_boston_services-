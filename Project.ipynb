{
 "cells": [
  {
   "cell_type": "code",
   "execution_count": 1,
   "id": "f6148ea4",
   "metadata": {},
   "outputs": [
    {
     "data": {
      "text/html": [
       "<style>pre { white-space: pre !important; }</style>"
      ],
      "text/plain": [
       "<IPython.core.display.HTML object>"
      ]
     },
     "metadata": {},
     "output_type": "display_data"
    }
   ],
   "source": [
    "import pyspark\n",
    "from pyspark.sql import SparkSession\n",
    "import warnings\n",
    "warnings.filterwarnings('ignore')\n",
    "import warnings; warnings.simplefilter('ignore')\n",
    "import pandas as pd\n",
    "from pyspark.sql.functions import *\n",
    "from google.cloud import storage\n",
    "from pyspark.sql import types\n",
    "from pyspark.sql.functions import date_format\n",
    "from IPython.core.display import HTML\n",
    "display(HTML(\"<style>pre { white-space: pre !important; }</style>\"))"
   ]
  },
  {
   "cell_type": "code",
   "execution_count": 3,
   "id": "290540bb",
   "metadata": {
    "scrolled": true
   },
   "outputs": [],
   "source": [
    "spark = SparkSession.builder \\\n",
    "        .master(\"local\") \\\n",
    "        .appName(\"Boston Service Request\") \\\n",
    "        .getOrCreate()\n",
    "\n",
    "spark.sparkContext.setLogLevel(\"ERROR\")"
   ]
  },
  {
   "cell_type": "code",
   "execution_count": 4,
   "id": "2ef667bc",
   "metadata": {},
   "outputs": [],
   "source": [
    "schema = types.StructType([\n",
    "types.StructField('case_enquiry_id', types.StringType(),True),\n",
    "types.StructField('open_dt', types.StringType(),True),\n",
    "types.StructField('target_dt', types.TimestampType(),True),\n",
    "types.StructField('closed_dt', types.TimestampType(),True),\n",
    "types.StructField('ontime', types.StringType(),True),\n",
    "types.StructField('case_status', types.StringType(),True),\n",
    "types.StructField('closure_reason', types.StringType(),True),\n",
    "types.StructField('case_title', types.StringType(),True),\n",
    "types.StructField('subject', types.StringType(),True),\n",
    "types.StructField('reason', types.StringType(),True),\n",
    "types.StructField('type', types.StringType(),True),\n",
    "types.StructField('queue', types.StringType(),True),\n",
    "types.StructField('department', types.StringType(),True),\n",
    "types.StructField('submittedphoto', types.StringType(),True),\n",
    "types.StructField('closedphoto', types.StringType(),True),\n",
    "types.StructField('location', types.StringType(),True),\n",
    "types.StructField('fire_district', types.StringType(),True),\n",
    "types.StructField('pwd_district', types.StringType(),True),\n",
    "types.StructField('city_council_district', types.StringType(),True),\n",
    "types.StructField('police_district', types.StringType(),True),\n",
    "types.StructField('neighborhood', types.StringType(),True),\n",
    "types.StructField('neighborhood_services_district', types.StringType(),True),\n",
    "types.StructField('ward', types.StringType(),True),\n",
    "types.StructField('precinct', types.StringType(),True),\n",
    "types.StructField('location_street_name', types.StringType(),True),\n",
    "types.StructField('location_zipcode', types.StringType(),True),\n",
    "types.StructField('latitude', types.StringType(),True),\n",
    "types.StructField('longitude', types.StringType(),True),\n",
    "types.StructField('source', types.StringType(),True)\n",
    "])"
   ]
  },
  {
   "cell_type": "code",
   "execution_count": 121,
   "id": "8663cf0a",
   "metadata": {},
   "outputs": [
    {
     "name": "stderr",
     "output_type": "stream",
     "text": [
      "                                                                                \r"
     ]
    },
    {
     "data": {
      "text/plain": [
       "StructType(List(StructField(case_enquiry_id,StringType,true),StructField(open_dt,StringType,true),StructField(target_dt,TimestampType,true),StructField(closed_dt,TimestampType,true),StructField(ontime,StringType,true),StructField(case_status,StringType,true),StructField(closure_reason,StringType,true),StructField(case_title,StringType,true),StructField(subject,StringType,true),StructField(reason,StringType,true),StructField(type,StringType,true),StructField(queue,StringType,true),StructField(department,StringType,true),StructField(location,StringType,true),StructField(fire_district,StringType,true),StructField(neighborhood,StringType,true),StructField(source,StringType,true)))"
      ]
     },
     "execution_count": 121,
     "metadata": {},
     "output_type": "execute_result"
    }
   ],
   "source": [
    "pandasDF = df.toPandas()\n",
    "spark.createDataFrame(pandasDF).schema"
   ]
  },
  {
   "cell_type": "code",
   "execution_count": 5,
   "id": "2194f0a3",
   "metadata": {},
   "outputs": [],
   "source": [
    "df = spark.read.option(\"header\",True).schema(schema).csv(\"gs://datalake-311-bronze/boston_2022.csv\")\n",
    "\n"
   ]
  },
  {
   "cell_type": "code",
   "execution_count": 6,
   "id": "865bdea2",
   "metadata": {},
   "outputs": [
    {
     "name": "stdout",
     "output_type": "stream",
     "text": [
      "root\n",
      " |-- case_enquiry_id: string (nullable = true)\n",
      " |-- open_dt: string (nullable = true)\n",
      " |-- target_dt: timestamp (nullable = true)\n",
      " |-- closed_dt: timestamp (nullable = true)\n",
      " |-- ontime: string (nullable = true)\n",
      " |-- case_status: string (nullable = true)\n",
      " |-- closure_reason: string (nullable = true)\n",
      " |-- case_title: string (nullable = true)\n",
      " |-- subject: string (nullable = true)\n",
      " |-- reason: string (nullable = true)\n",
      " |-- type: string (nullable = true)\n",
      " |-- queue: string (nullable = true)\n",
      " |-- department: string (nullable = true)\n",
      " |-- submittedphoto: string (nullable = true)\n",
      " |-- closedphoto: string (nullable = true)\n",
      " |-- location: string (nullable = true)\n",
      " |-- fire_district: string (nullable = true)\n",
      " |-- pwd_district: string (nullable = true)\n",
      " |-- city_council_district: string (nullable = true)\n",
      " |-- police_district: string (nullable = true)\n",
      " |-- neighborhood: string (nullable = true)\n",
      " |-- neighborhood_services_district: string (nullable = true)\n",
      " |-- ward: string (nullable = true)\n",
      " |-- precinct: string (nullable = true)\n",
      " |-- location_street_name: string (nullable = true)\n",
      " |-- location_zipcode: string (nullable = true)\n",
      " |-- latitude: string (nullable = true)\n",
      " |-- longitude: string (nullable = true)\n",
      " |-- source: string (nullable = true)\n",
      "\n"
     ]
    }
   ],
   "source": [
    "\n",
    "df.dtypes\n",
    "df.printSchema()"
   ]
  },
  {
   "cell_type": "code",
   "execution_count": null,
   "id": "27d1b6ba",
   "metadata": {},
   "outputs": [],
   "source": [
    "df = df.repartition(10)"
   ]
  },
  {
   "cell_type": "code",
   "execution_count": 85,
   "id": "0b507bcf",
   "metadata": {},
   "outputs": [
    {
     "name": "stderr",
     "output_type": "stream",
     "text": [
      "                                                                                \r"
     ]
    }
   ],
   "source": [
    "df.write.format('bigquery') \\\n",
    "    .option('project','dataengineering-bizzy') \\\n",
    "    .option('table','boston_service_request.boston_311_raw') \\\n",
    "    .option(\"temporaryGcsBucket\",\"datalake-311-silver\") \\\n",
    "    .mode(\"overwrite\") \\\n",
    "    .save()"
   ]
  },
  {
   "cell_type": "code",
   "execution_count": null,
   "id": "93a5864a",
   "metadata": {},
   "outputs": [],
   "source": [
    "df.write.format(\"parquet\").option(\"path\", \"gs://datalake-311-silver/archive/\").save()"
   ]
  },
  {
   "cell_type": "code",
   "execution_count": 88,
   "id": "7a8242fa",
   "metadata": {},
   "outputs": [],
   "source": [
    "df = spark.read.format('bigquery') \\\n",
    "    .option('project','dataengineering-bizzy') \\\n",
    "    .option('table','boston_service_request.boston_311_raw') \\\n",
    "    .load()"
   ]
  },
  {
   "cell_type": "code",
   "execution_count": 89,
   "id": "957ffe8d",
   "metadata": {},
   "outputs": [
    {
     "name": "stderr",
     "output_type": "stream",
     "text": [
      "\r",
      "[Stage 167:>                                                        (0 + 1) / 1]\r"
     ]
    },
    {
     "name": "stdout",
     "output_type": "stream",
     "text": [
      "+-------+--------------------+\n",
      "|summary|     case_enquiry_id|\n",
      "+-------+--------------------+\n",
      "|  count|              273951|\n",
      "|   mean|1.010038463896175...|\n",
      "| stddev|   153628.0535129675|\n",
      "|    min|        101003578872|\n",
      "|    max|        101004113296|\n",
      "+-------+--------------------+\n",
      "\n"
     ]
    },
    {
     "name": "stderr",
     "output_type": "stream",
     "text": [
      "\r",
      "                                                                                \r"
     ]
    }
   ],
   "source": [
    "df.describe([\"case_enquiry_id\"]).show() #max returning a value and not ? means no nulls in this column"
   ]
  },
  {
   "cell_type": "code",
   "execution_count": null,
   "id": "4f7bf1de",
   "metadata": {},
   "outputs": [],
   "source": []
  },
  {
   "cell_type": "code",
   "execution_count": 91,
   "id": "886293a5",
   "metadata": {},
   "outputs": [],
   "source": [
    "df =df.drop(\"latitude\", \"longitude\", \"submittedphoto\",\"police_district\", \"location_zipcode\", \"ward\", \"closedphoto\",\"police_district\", \"neighborhood_services_district\",\"queue\" \"fire_district\",\"city_council_district\",\"precinct\", \"location_street_name\", \"pwd_district\")"
   ]
  },
  {
   "cell_type": "code",
   "execution_count": 92,
   "id": "029bf55a",
   "metadata": {},
   "outputs": [
    {
     "name": "stdout",
     "output_type": "stream",
     "text": [
      "root\n",
      " |-- case_enquiry_id: string (nullable = true)\n",
      " |-- open_dt: string (nullable = true)\n",
      " |-- target_dt: timestamp (nullable = true)\n",
      " |-- closed_dt: timestamp (nullable = true)\n",
      " |-- ontime: string (nullable = true)\n",
      " |-- case_status: string (nullable = true)\n",
      " |-- closure_reason: string (nullable = true)\n",
      " |-- case_title: string (nullable = true)\n",
      " |-- subject: string (nullable = true)\n",
      " |-- reason: string (nullable = true)\n",
      " |-- type: string (nullable = true)\n",
      " |-- queue: string (nullable = true)\n",
      " |-- department: string (nullable = true)\n",
      " |-- location: string (nullable = true)\n",
      " |-- fire_district: string (nullable = true)\n",
      " |-- neighborhood: string (nullable = true)\n",
      " |-- source: string (nullable = true)\n",
      "\n"
     ]
    }
   ],
   "source": [
    "df.printSchema()"
   ]
  },
  {
   "cell_type": "markdown",
   "id": "0845f406",
   "metadata": {
    "scrolled": true
   },
   "source": [
    "#checking for ?(nulls) in all columns\n",
    "for col in df.columns:\n",
    "    df.describe([col]).show()\n",
    "for col in df.columns:\n",
    "    print(col, \"\\t\", \"with '?' values: \", df.filter(df[col]==\"?\").count())\n",
    "    \n",
    "for col in df2.columns:\n",
    "    print(col, \"\\t\", \"with '?' values: \", df2.filter(df2[col]==\"?\").count())"
   ]
  },
  {
   "cell_type": "code",
   "execution_count": 93,
   "id": "2497d579",
   "metadata": {},
   "outputs": [],
   "source": [
    "df2 = df.replace('?',None)  #Replace empty columns with none"
   ]
  },
  {
   "cell_type": "code",
   "execution_count": 94,
   "id": "81a2ec95",
   "metadata": {},
   "outputs": [],
   "source": [
    "df_time = df2.withColumn('resolution_time_sec',round(unix_timestamp(\"closed_dt\")) - round(unix_timestamp('open_dt')))\\\n",
    "             .withColumn('resolution_time_mins',round(unix_timestamp(\"closed_dt\")/60) - round(unix_timestamp('open_dt')/60))"
   ]
  },
  {
   "cell_type": "code",
   "execution_count": 86,
   "id": "7591a956",
   "metadata": {},
   "outputs": [
    {
     "name": "stderr",
     "output_type": "stream",
     "text": [
      "                                                                                \r"
     ]
    }
   ],
   "source": [
    " #write the data to bigquery\n",
    "    \n",
    "    df_time.write.format('bigquery') \\\n",
    "    .option('project','dataengineering-bizzy') \\\n",
    "    .option('table','boston_service_request.boston_service_summary') \\\n",
    "    .option(\"temporaryGcsBucket\",\"datalake-311-silver\") \\\n",
    "    .mode(\"overwrite\") \\\n",
    "    .save()"
   ]
  },
  {
   "cell_type": "code",
   "execution_count": 95,
   "id": "3c5d179d",
   "metadata": {},
   "outputs": [
    {
     "name": "stdout",
     "output_type": "stream",
     "text": [
      "+---------------+-------------------+-------------------+-------------------+-------+-----------+--------------------+------------+--------------------+-------------------+--------------------+--------------------+----------+--------------------+-------------+------------+--------------------+-------------------+--------------------+\n",
      "|case_enquiry_id|            open_dt|          target_dt|          closed_dt| ontime|case_status|      closure_reason|  case_title|             subject|             reason|                type|               queue|department|            location|fire_district|neighborhood|              source|resolution_time_sec|resolution_time_mins|\n",
      "+---------------+-------------------+-------------------+-------------------+-------+-----------+--------------------+------------+--------------------+-------------------+--------------------+--------------------+----------+--------------------+-------------+------------+--------------------+-------------------+--------------------+\n",
      "|   101003605364|2021-01-21 09:01:40|2021-01-22 09:01:47|2021-01-21 10:54:32| ONTIME|     Closed|Case Closed. Clos...|     Pothole|Public Works Depa...|Highway Maintenance|Request for Potho...|PWDx_District 04:...|      PWDx|INTERSECTION of A...|           11|        null|     City Worker App|               6772|               113.0|\n",
      "|   101003605365|2021-01-21 09:02:26|2021-01-22 09:02:31|2021-01-21 10:54:13| ONTIME|     Closed|Case Closed. Clos...|     Pothole|Public Works Depa...|Highway Maintenance|Request for Potho...|PWDx_District 04:...|      PWDx|INTERSECTION of A...|           11|        null|     City Worker App|               6707|               112.0|\n",
      "|   101003664064|2021-03-11 13:07:30|2021-03-12 13:07:41|2021-03-11 13:33:54| ONTIME|     Closed|Case Closed Case ...|     Pothole|Public Works Depa...|Highway Maintenance|Request for Potho...|PWDx_Requests for...|      PWDx|INTERSECTION of S...|         null|        null|     City Worker App|               1584|                26.0|\n",
      "|   101003740190|2021-05-10 12:25:20|2021-05-11 12:25:33|2021-05-10 13:17:52| ONTIME|     Closed|Case Closed. Clos...|     Pothole|Public Works Depa...|Highway Maintenance|Request for Potho...|PWDx_District 1C:...|      PWDx|INTERSECTION of A...|            4|        null|     City Worker App|               3152|                53.0|\n",
      "|   101004062794|2021-11-18 07:53:18|2021-11-19 08:30:00|2021-11-18 09:57:41| ONTIME|     Closed|Case Closed Case ...|     Pothole|Public Works Depa...|Highway Maintenance|Request for Potho...|PWDx_Requests for...|      PWDx|INTERSECTION of S...|         null|        null|     City Worker App|               7463|               125.0|\n",
      "|   101003743903|2021-05-13 04:20:51|               null|               null| ONTIME|       Open|                    |  Catchbasin|Boston Water & Se...|         Catchbasin|          Catchbasin|      BWSC_All Cases|      BWSC|INTERSECTION of A...|            4|        null|     City Worker App|               null|                null|\n",
      "|   101004063872|2021-11-18 18:14:00|2021-12-06 08:30:00|2022-01-04 20:54:24|OVERDUE|     Closed|Case Closed. Clos...|  PRINTED : |Public Works Depa...|      Street Lights|Street Light Outages|PWDx_Street Light...|      PWDx|INTERSECTION of N...|            3|        null|Citizens Connect App|            4070424|             67840.0|\n",
      "|   101003592189|2021-01-18 09:21:33|2021-02-02 08:30:00|2021-01-19 09:35:03| ONTIME|     Closed|Case Closed. Clos...| Sign Repair|Transportation - ...|    Signs & Signals|         Sign Repair|    BTDT_District 04|      BTDT|INTERSECTION of E...|            8|        null|Citizens Connect App|              87210|              1453.0|\n",
      "|   101003593121|2021-01-19 09:38:00|2021-02-02 09:38:05|2021-02-01 09:03:42| ONTIME|     Closed|Case Closed. Clos...| Sign Repair|Transportation - ...|    Signs & Signals|         Sign Repair|BTDT_Sign Shop_Si...|      BTDT|INTERSECTION of B...|            8|        null|     City Worker App|            1121142|             18686.0|\n",
      "|   101003654505|2021-03-02 15:51:00|2021-03-16 15:51:14|2021-03-03 13:50:19| ONTIME|     Closed|Case Closed. Clos...| Sign Repair|Transportation - ...|    Signs & Signals|         Sign Repair|    BTDT_District 06|      BTDT|INTERSECTION of N...|            3|        null|    Constituent Call|              79159|              1319.0|\n",
      "|   101003707140|2021-04-11 12:52:01|2021-04-27 08:30:00|2021-04-12 06:45:18| ONTIME|     Closed|Case Closed. Clos...| Sign Repair|Transportation - ...|    Signs & Signals|         Sign Repair|    BTDT_District 01|      BTDT|INTERSECTION of A...|           11|        null|Citizens Connect App|              64397|              1073.0|\n",
      "|   101003707146|2021-04-11 12:56:51|2021-04-27 08:30:00|2021-04-12 06:44:48| ONTIME|     Closed|Case Closed. Clos...| Sign Repair|Transportation - ...|    Signs & Signals|         Sign Repair|    BTDT_District 01|      BTDT|INTERSECTION of A...|           11|        null|Citizens Connect App|              64077|              1068.0|\n",
      "|   101003768210|2021-05-24 15:19:00|2021-06-08 15:19:41|2021-05-25 08:10:29| ONTIME|     Closed|Case Closed. Clos...| Sign Repair|Transportation - ...|    Signs & Signals|         Sign Repair|INFO_Reallocation...|      INFO|INTERSECTION of M...|         null|        null|Citizens Connect App|              60689|              1011.0|\n",
      "|   101003851048|2021-07-13 07:57:27|2021-07-27 08:30:00|2021-07-13 08:44:08| ONTIME|     Closed|Case Closed. Clos...| Sign Repair|Transportation - ...|    Signs & Signals|         Sign Repair|    BTDT_District 02|      BTDT|INTERSECTION of C...|         null|        null|Citizens Connect App|               2801|                47.0|\n",
      "|   101004037008|2021-11-04 10:33:00|2021-11-19 10:33:37|2021-11-09 10:41:03| ONTIME|     Closed|Case Closed. Clos...| Sign Repair|Transportation - ...|    Signs & Signals|         Sign Repair|BTDT_Sign Shop_Si...|      BTDT|INTERSECTION of M...|            4|        null|Citizens Connect App|             436083|              7268.0|\n",
      "|   101003702100|2021-04-07 08:37:00|2021-04-22 08:37:35|2021-04-29 08:26:18|OVERDUE|     Closed|Case Closed. Clos...|Missing Sign|Transportation - ...|    Signs & Signals|        Missing Sign|BTDT_Sign Shop_Si...|      BTDT|INTERSECTION of A...|           11|        null|     City Worker App|            1900158|             31669.0|\n",
      "|   101003722368|2021-04-24 18:47:00|2021-05-10 08:30:00|2021-06-23 02:56:32|OVERDUE|     Closed|Case Closed. Clos...|PRINTED : SR|Public Works Depa...|      Street Lights|Street Light Outages|PWDx_Street Light...|      PWDx|INTERSECTION of A...|            4|        null|Citizens Connect App|            5126972|             85450.0|\n",
      "|   101003666249|2021-03-13 14:42:48|2021-03-22 08:30:00|2021-03-15 09:57:38| ONTIME|     Closed|Case Closed. Clos...|PWD Graffiti|Public Works Depa...|Highway Maintenance|        PWD Graffiti|PWDx_District 1C:...|      PWDx|INTERSECTION of A...|            4|        null|Citizens Connect App|             152090|              2535.0|\n",
      "|   101003666291|2021-03-13 15:23:00|2021-03-22 08:30:00|2021-03-31 12:55:44|OVERDUE|     Closed|Case Closed. Clos...|PWD Graffiti|Public Works Depa...|Highway Maintenance|        PWD Graffiti|PWDx_Street Light...|      PWDx|INTERSECTION of A...|            4|        null|Citizens Connect App|            1542764|             25713.0|\n",
      "|   101003764135|2021-05-20 21:46:00|2021-05-28 08:30:00|               null|OVERDUE|       Open|                    |PWD Graffiti|Public Works Depa...|Highway Maintenance|        PWD Graffiti|       INFO_Mass DOT|      INFO|INTERSECTION of U...|            3|        null|Citizens Connect App|               null|                null|\n",
      "+---------------+-------------------+-------------------+-------------------+-------+-----------+--------------------+------------+--------------------+-------------------+--------------------+--------------------+----------+--------------------+-------------+------------+--------------------+-------------------+--------------------+\n",
      "only showing top 20 rows\n",
      "\n"
     ]
    },
    {
     "name": "stderr",
     "output_type": "stream",
     "text": [
      "\r",
      "[Stage 170:>                                                        (0 + 1) / 1]\r",
      "\r",
      "                                                                                \r"
     ]
    }
   ],
   "source": [
    "df_time.show()"
   ]
  },
  {
   "cell_type": "code",
   "execution_count": 96,
   "id": "84cf4990",
   "metadata": {},
   "outputs": [],
   "source": [
    "#Replace the null values in time fields with zeros for accuration calculations\n",
    "df2 =df_time.na.fill(value=0,subset=[\"resolution_time_sec\", \"resolution_time_mins\"])"
   ]
  },
  {
   "cell_type": "code",
   "execution_count": 99,
   "id": "80d89884",
   "metadata": {},
   "outputs": [
    {
     "name": "stderr",
     "output_type": "stream",
     "text": [
      "\r",
      "[Stage 174:>                                                        (0 + 1) / 1]\r"
     ]
    },
    {
     "name": "stdout",
     "output_type": "stream",
     "text": [
      "+--------------------+------+\n",
      "|              source| count|\n",
      "+--------------------+------+\n",
      "|        Self Service|  8662|\n",
      "|  Maximo Integration|     1|\n",
      "|  Employee Generated|  7126|\n",
      "|    Constituent Call|100674|\n",
      "|Citizens Connect App|132992|\n",
      "|     City Worker App| 24496|\n",
      "+--------------------+------+\n",
      "\n"
     ]
    },
    {
     "name": "stderr",
     "output_type": "stream",
     "text": [
      "\r",
      "                                                                                \r"
     ]
    }
   ],
   "source": [
    "df2.groupBy(\"source\").count().alias(\"total\").show(10)"
   ]
  },
  {
   "cell_type": "code",
   "execution_count": 100,
   "id": "e8fbdd7f",
   "metadata": {},
   "outputs": [],
   "source": [
    "df2.createOrReplaceTempView(\"service_request\")  # Create temp table for sql interaction\n"
   ]
  },
  {
   "cell_type": "markdown",
   "id": "7e4fad33",
   "metadata": {},
   "source": [
    "### 1. Most used channel for request"
   ]
  },
  {
   "cell_type": "code",
   "execution_count": 101,
   "id": "e693c595",
   "metadata": {},
   "outputs": [
    {
     "name": "stderr",
     "output_type": "stream",
     "text": [
      "\r",
      "[Stage 177:>                                                        (0 + 1) / 1]\r"
     ]
    },
    {
     "name": "stdout",
     "output_type": "stream",
     "text": [
      "+--------------------+------+\n",
      "|source              |Total |\n",
      "+--------------------+------+\n",
      "|Citizens Connect App|132992|\n",
      "|Constituent Call    |100674|\n",
      "|City Worker App     |24496 |\n",
      "|Self Service        |8662  |\n",
      "|Employee Generated  |7126  |\n",
      "|Maximo Integration  |1     |\n",
      "+--------------------+------+\n",
      "\n"
     ]
    },
    {
     "name": "stderr",
     "output_type": "stream",
     "text": [
      "\r",
      "                                                                                \r"
     ]
    }
   ],
   "source": [
    "spark.sql(\"select source, count(source) as Total from service_request group by source order by Total desc\").show(truncate=False)"
   ]
  },
  {
   "cell_type": "markdown",
   "id": "babf45cf",
   "metadata": {},
   "source": [
    "### 2. Percent of ticket resolved ontime"
   ]
  },
  {
   "cell_type": "code",
   "execution_count": 103,
   "id": "3e3a540d",
   "metadata": {},
   "outputs": [
    {
     "name": "stderr",
     "output_type": "stream",
     "text": [
      "                                                                                \r"
     ]
    },
    {
     "name": "stdout",
     "output_type": "stream",
     "text": [
      "+-------+------+\n",
      "| ontime| count|\n",
      "+-------+------+\n",
      "|OVERDUE| 45366|\n",
      "| ONTIME|228585|\n",
      "+-------+------+\n",
      "\n"
     ]
    },
    {
     "name": "stderr",
     "output_type": "stream",
     "text": [
      "\r",
      "[Stage 186:>                                                        (0 + 1) / 1]\r"
     ]
    },
    {
     "name": "stdout",
     "output_type": "stream",
     "text": [
      "+-------+-------------+-----------+-----------------+\n",
      "|ontime |count(ontime)|total_count|request_percent  |\n",
      "+-------+-------------+-----------+-----------------+\n",
      "|OVERDUE|45366        |273951     |16.55989574777971|\n",
      "|ONTIME |228585       |273951     |83.44010425222029|\n",
      "+-------+-------------+-----------+-----------------+\n",
      "\n"
     ]
    },
    {
     "name": "stderr",
     "output_type": "stream",
     "text": [
      "\r",
      "                                                                                \r"
     ]
    }
   ],
   "source": [
    "df2.groupBy(\"ontime\").count().alias(\"total\").show(10)\n",
    "\n",
    "spark.sql(\"select ontime, count(ontime), \\\n",
    "          SUM(COUNT(ontime)) OVER() AS total_count, \\\n",
    "          count(ontime) *100.0 /sum(count(ontime)) over () as request_percent \\\n",
    "          from service_request group by ontime\").show(truncate=False)"
   ]
  },
  {
   "cell_type": "markdown",
   "id": "7f7c3d2a",
   "metadata": {},
   "source": [
    "### 3. Maximum no of days to resolve a ticket in each category"
   ]
  },
  {
   "cell_type": "code",
   "execution_count": 104,
   "id": "32068765",
   "metadata": {},
   "outputs": [
    {
     "name": "stderr",
     "output_type": "stream",
     "text": [
      "\r",
      "[Stage 192:>                                                        (0 + 1) / 1]\r"
     ]
    },
    {
     "name": "stdout",
     "output_type": "stream",
     "text": [
      "+---------------+-------------------+-------------------+----------------------------------+--------------------+--------------------+\n",
      "|case_enquiry_id|open_dt            |closed_dt          |case_title                        |resolution_time_mins|resolution_days     |\n",
      "+---------------+-------------------+-------------------+----------------------------------+--------------------+--------------------+\n",
      "|101003580807   |2021-01-04 11:46:00|2021-09-20 10:17:03|Abandoned Bicycle                 |372811.0            |258.89652777777775  |\n",
      "|101003647496   |2021-02-23 20:37:00|2021-12-07 10:21:18|Abandoned Building                |412664.0            |286.57222222222225  |\n",
      "|101003684008   |2021-03-22 08:38:00|2021-12-07 10:37:23|Abandoned Vehicles                |374579.0            |260.12430555555557  |\n",
      "|101003714274   |2021-04-17 17:06:00|null               |Aircraft Noise Disturbance        |0.0                 |0.0                 |\n",
      "|101003653200   |2021-03-01 15:03:31|2021-03-01 15:05:09|Alert Boston                      |1.0                 |6.944444444444445E-4|\n",
      "|101003971080   |2021-09-22 08:22:00|2021-10-14 15:15:29|Animal Found                      |32093.0             |22.286805555555556  |\n",
      "|101003970459   |2021-09-21 17:23:00|2021-10-14 15:44:03|Animal Generic Request            |33021.0             |22.931250000000002  |\n",
      "|101003966921   |2021-09-19 13:11:00|2021-10-14 15:16:30|Animal Lost                       |36126.0             |25.087500000000002  |\n",
      "|101004009009   |2021-10-14 11:35:55|2021-10-29 10:04:05|Animal Noise Disturbances         |21508.0             |14.93611111111111   |\n",
      "|101003627480   |2021-02-12 15:47:01|2021-03-03 15:21:17|Automotive Noise Disturbance      |27334.0             |18.981944444444444  |\n",
      "|101003641993   |2021-02-18 09:28:00|2021-07-14 11:33:55|General Request                   |210306.0            |146.04583333333332  |\n",
      "|101003781392   |2021-06-04 08:55:00|2022-02-07 17:45:55|BWSC Pothole                      |357711.0            |248.4104166666667   |\n",
      "|101003726220   |2021-04-28 09:11:00|2021-10-28 13:11:52|SCHEDULED Bed Bugs                |263761.0            |183.1673611111111   |\n",
      "|101003680801   |2021-03-18 10:52:00|2021-09-16 15:10:30|Boston Bikes: Bike Racks; Repair  |262339.0            |182.1798611111111   |\n",
      "|101003706272   |2021-04-10 11:19:00|null               |Big Buildings Online Request      |0.0                 |0.0                 |\n",
      "|101003967349   |2021-09-20 07:21:05|null               |Big Buildings Recycling (INTERNAL)|0.0                 |0.0                 |\n",
      "|101003973653   |2021-09-23 16:25:00|2021-09-23 17:48:01|Billing Complaint                 |83.0                |0.057638888888888885|\n",
      "|101004068408   |2021-11-23 14:02:00|2021-11-23 14:07:25|Breathe Easy                      |5.0                 |0.003472222222222222|\n",
      "|101003688931   |2021-03-25 18:51:00|2021-07-27 07:35:04|Bridge Maintenance                |177884.0            |123.53055555555555  |\n",
      "|101003582981   |2021-01-06 17:09:00|2022-02-14 21:43:24|Building Inspection Request       |582034.0            |404.1902777777778   |\n",
      "+---------------+-------------------+-------------------+----------------------------------+--------------------+--------------------+\n",
      "only showing top 20 rows\n",
      "\n"
     ]
    },
    {
     "name": "stderr",
     "output_type": "stream",
     "text": [
      "\r",
      "                                                                                \r"
     ]
    }
   ],
   "source": [
    "spark.sql(\"select case_enquiry_id,open_dt,closed_dt,case_title, resolution_time_mins, (resolution_time_mins/60/24) as resolution_days from \"\\\n",
    "          \"(select * ,row_number() OVER (PARTITION BY type ORDER BY resolution_time_mins DESC) as rn \"\\\n",
    "          \" from service_request) tmp where rn <=1\").show(truncate=False)"
   ]
  },
  {
   "cell_type": "markdown",
   "id": "5167442c",
   "metadata": {},
   "source": [
    "### 4. Most frequent request"
   ]
  },
  {
   "cell_type": "code",
   "execution_count": 105,
   "id": "0e3c65e3",
   "metadata": {},
   "outputs": [
    {
     "name": "stderr",
     "output_type": "stream",
     "text": [
      "\r",
      "[Stage 195:>                                                        (0 + 1) / 1]\r"
     ]
    },
    {
     "name": "stdout",
     "output_type": "stream",
     "text": [
      "+-----------------------------------+-----+\n",
      "|case_title                         |total|\n",
      "+-----------------------------------+-----+\n",
      "|Parking Enforcement                |57414|\n",
      "|Requests for Street Cleaning       |18570|\n",
      "|Improper Storage of Trash (Barrels)|13587|\n",
      "|Schedule a Bulk Item Pickup        |11841|\n",
      "|CE Collection                      |11801|\n",
      "|Needle Pickup                      |7864 |\n",
      "|Request for Pothole Repair         |7362 |\n",
      "|Poor Conditions of Property        |5972 |\n",
      "|Tree Maintenance Requests          |5637 |\n",
      "|Sign Repair                        |5297 |\n",
      "|Pick up Dead Animal                |5289 |\n",
      "|Abandoned Vehicles                 |5088 |\n",
      "|Schedule Bulk Item Pickup          |5016 |\n",
      "|Graffiti Removal                   |4902 |\n",
      "|Request for Recycling Cart         |4663 |\n",
      "|Sidewalk Repair (Make Safe)        |4586 |\n",
      "|Traffic Signal Inspection          |4146 |\n",
      "|Recycling Cart Return              |3988 |\n",
      "|Rodent Activity                    |3586 |\n",
      "|Animal Generic Request             |3390 |\n",
      "+-----------------------------------+-----+\n",
      "only showing top 20 rows\n",
      "\n"
     ]
    },
    {
     "name": "stderr",
     "output_type": "stream",
     "text": [
      "\r",
      "                                                                                \r"
     ]
    }
   ],
   "source": [
    "spark.sql(\"select case_title, count(case_title) as total from service_request group by case_title order by total desc\").show(truncate=False)"
   ]
  },
  {
   "cell_type": "markdown",
   "id": "2a106276",
   "metadata": {},
   "source": [
    "### 5. Average Resolution Time of a Case Type"
   ]
  },
  {
   "cell_type": "code",
   "execution_count": 120,
   "id": "1ffb18a9",
   "metadata": {},
   "outputs": [
    {
     "name": "stderr",
     "output_type": "stream",
     "text": [
      "\r",
      "[Stage 231:>                                                        (0 + 1) / 1]\r"
     ]
    },
    {
     "name": "stdout",
     "output_type": "stream",
     "text": [
      "+------------------------------------------------------------------+---------------------+--------------------+\n",
      "|case_title                                                        |average_res_time_mins|resolution_days     |\n",
      "+------------------------------------------------------------------+---------------------+--------------------+\n",
      "| Maintenance Complaint - Residential                              |318.0                |0.22083333333333333 |\n",
      "| Mice Infestation - Residential                                   |8.0                  |0.005555555555555556|\n",
      "| No Utilities Residential - Electricity                           |1399.0               |0.9715277777777778  |\n",
      "| Pest Infestation - Residential                                   |2058.5               |1.4295138888888888  |\n",
      "| Rodent Activity                                                  |8567.0               |5.949305555555555   |\n",
      "| SCHEDULED Chronic Dampness/Mold                                  |354257.0             |246.01180555555558  |\n",
      "| SCHEDULED Pest Infestation - Residential                         |9937.0               |6.9006944444444445  |\n",
      "| SCHEDULED Unsatisfactory Utilities - Electrical  Plumbing        |15652.0              |10.869444444444445  |\n",
      "| Short Term Rental                                                |0.0                  |0.0                 |\n",
      "| Street Light Outages  -- SENT TO MAVERICK  --  N.M.              |46563.0              |32.33541666666667   |\n",
      "| Street Light Outages //reallocated to contractor                 |13747.0              |9.546527777777778   |\n",
      "| Street Light Outages.///Issued to Cont - DP                      |13832.0              |9.605555555555556   |\n",
      "| Street Light_Antenna Pole Outage///Issued                        |16528.0              |11.477777777777776  |\n",
      "| Unsatisfactory Living Conditions                                 |4918.333333333333    |3.415509259259259   |\n",
      "| Unsatisfactory Utilities - Electrical  Plumbing                  |47.0                 |0.03263888888888889 |\n",
      "|\"Arm and Fixture Transfer ASAP///Issued to Mav  \"\"Few open cases'\"|11882.0              |8.251388888888888   |\n",
      "|\"Gas Light Outages//PRINTED \"\"ON CALL\"\" ///MD\"                    |1083.0               |0.7520833333333333  |\n",
      "|\"Missed \"\"Other\"\" Trash: District 02\"                             |651.2307692307693    |0.45224358974358975 |\n",
      "|\"Missed \"\"Other\"\" Trash: District 03\"                             |735.2727272727273    |0.5106060606060606  |\n",
      "|\"Missed \"\"Other\"\" Trash: District 04\"                             |685.7272727272727    |0.476199494949495   |\n",
      "+------------------------------------------------------------------+---------------------+--------------------+\n",
      "only showing top 20 rows\n",
      "\n"
     ]
    },
    {
     "name": "stderr",
     "output_type": "stream",
     "text": [
      "\r",
      "                                                                                \r"
     ]
    }
   ],
   "source": [
    "spark.sql(\"select case_title, average_res_time_mins, (average_res_time_mins/60/24) as resolution_days from \"\\\n",
    "          \"(select * ,AVG(resolution_time_mins) OVER (PARTITION BY case_title ORDER BY case_title DESC) as average_res_time_mins \"\\\n",
    "          \"from service_request) group by case_title, average_res_time_mins,(average_res_time_mins/60/24) \\\n",
    "          order by case when case_title is null then 1 else 0 end, case_title \").show(truncate=False)\n",
    "\n",
    "\n"
   ]
  },
  {
   "cell_type": "code",
   "execution_count": null,
   "id": "e084c869",
   "metadata": {},
   "outputs": [],
   "source": []
  },
  {
   "cell_type": "code",
   "execution_count": null,
   "id": "c54e3e78",
   "metadata": {},
   "outputs": [],
   "source": []
  }
 ],
 "metadata": {
  "kernelspec": {
   "display_name": "Python 3 (ipykernel)",
   "language": "python",
   "name": "python3"
  },
  "language_info": {
   "codemirror_mode": {
    "name": "ipython",
    "version": 3
   },
   "file_extension": ".py",
   "mimetype": "text/x-python",
   "name": "python",
   "nbconvert_exporter": "python",
   "pygments_lexer": "ipython3",
   "version": "3.9.7"
  }
 },
 "nbformat": 4,
 "nbformat_minor": 5
}
